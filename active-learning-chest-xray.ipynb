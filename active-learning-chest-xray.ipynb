{
 "cells": [
  {
   "cell_type": "markdown",
   "id": "806ae9b4",
   "metadata": {},
   "source": [
    "# Active Learning for Chest X-Ray Classification\n",
    "## Improving Tuberculosis Detection with Uncertainty Sampling\n",
    "\n",
    "This notebook implements active learning to improve the classification of chest X-ray images, particularly focusing on improving tuberculosis detection which showed low recall (57%) in the baseline model.\n",
    "\n",
    "**Key Improvements:**\n",
    "- Active learning with uncertainty sampling\n",
    "- Focal loss for class imbalance\n",
    "- Enhanced data augmentation\n",
    "- Improved regularization\n",
    "- Better model architecture"
   ]
  },
  {
   "cell_type": "code",
   "execution_count": 2,
   "id": "fec4b28b",
   "metadata": {},
   "outputs": [
    {
     "name": "stdout",
     "output_type": "stream",
     "text": [
      "PyTorch version: 2.8.0+cu128\n",
      "CUDA available: True\n",
      "CUDA version: 12.8\n",
      "GPU: NVIDIA A10G\n",
      "Number of GPUs: 1\n"
     ]
    }
   ],
   "source": [
    "import torch\n",
    "import torch.nn as nn\n",
    "import torch.optim as optim\n",
    "import torch.nn.functional as F\n",
    "from torch.utils.data import Dataset, DataLoader, Subset, ConcatDataset\n",
    "import torchvision.transforms as transforms\n",
    "from torchvision.datasets import ImageFolder\n",
    "import numpy as np\n",
    "import pandas as pd\n",
    "import matplotlib.pyplot as plt\n",
    "import seaborn as sns\n",
    "from sklearn.metrics import classification_report, confusion_matrix, f1_score\n",
    "from sklearn.model_selection import train_test_split\n",
    "import os\n",
    "from PIL import Image\n",
    "from tqdm import tqdm\n",
    "import time\n",
    "import random\n",
    "import warnings\n",
    "from collections import Counter\n",
    "import copy\n",
    "warnings.filterwarnings('ignore')\n",
    "\n",
    "# Set random seeds for reproducibility\n",
    "torch.manual_seed(42)\n",
    "np.random.seed(42)\n",
    "random.seed(42)\n",
    "if torch.cuda.is_available():\n",
    "    torch.cuda.manual_seed(42)\n",
    "    torch.backends.cudnn.deterministic = True\n",
    "    torch.backends.cudnn.benchmark = True\n",
    "\n",
    "print(f\"PyTorch version: {torch.__version__}\")\n",
    "print(f\"CUDA available: {torch.cuda.is_available()}\")\n",
    "if torch.cuda.is_available():\n",
    "    print(f\"CUDA version: {torch.version.cuda}\")\n",
    "    print(f\"GPU: {torch.cuda.get_device_name(0)}\")\n",
    "    print(f\"Number of GPUs: {torch.cuda.device_count()}\")"
   ]
  },
  {
   "cell_type": "markdown",
   "id": "7482a9f9",
   "metadata": {},
   "source": [
    "## 2. Enhanced Configuration for Active Learning"
   ]
  },
  {
   "cell_type": "code",
   "execution_count": 3,
   "id": "3f19fe28",
   "metadata": {},
   "outputs": [
    {
     "name": "stdout",
     "output_type": "stream",
     "text": [
      "Training on: cuda\n",
      "Active Learning Configuration:\n",
      "  Initial labeled data: 30%\n",
      "  Query size per iteration: 10%\n",
      "  Number of AL iterations: 5\n",
      "  Uncertainty method: entropy\n"
     ]
    }
   ],
   "source": [
    "class ActiveLearningConfig:\n",
    "    # Paths\n",
    "    train_dir = './chest_xray_dataset/train'\n",
    "    val_dir = './chest_xray_dataset/val'\n",
    "    test_dir = './chest_xray_dataset/test'\n",
    "    \n",
    "    # Model parameters\n",
    "    num_classes = 3  # Normal, Pneumonia, Tuberculosis\n",
    "    input_channels = 3\n",
    "    img_size = 224\n",
    "    \n",
    "    # Training hyperparameters\n",
    "    batch_size = 32  # Smaller batch for active learning\n",
    "    num_epochs = 30  # Fewer epochs per iteration\n",
    "    learning_rate = 0.0005  # Lower learning rate for fine-tuning\n",
    "    weight_decay = 1e-3  # Stronger regularization\n",
    "    \n",
    "    # Active Learning parameters\n",
    "    initial_labeled_size = 0.3  # Start with 30% of training data\n",
    "    query_size = 0.1  # Query 10% of remaining data each iteration\n",
    "    al_iterations = 5  # Number of active learning iterations\n",
    "    uncertainty_method = 'entropy'  # 'entropy', 'margin', 'least_confidence'\n",
    "    \n",
    "    # Focal Loss parameters (for class imbalance)\n",
    "    focal_alpha = [0.7, 1.0, 1.5]  # Weights for [normal, pneumonia, tuberculosis]\n",
    "    focal_gamma = 2.0  # Focusing parameter\n",
    "    \n",
    "    # GPU optimization\n",
    "    num_workers = 6\n",
    "    pin_memory = True\n",
    "    prefetch_factor = 2\n",
    "    \n",
    "    # Training settings\n",
    "    early_stopping_patience = 8\n",
    "    lr_scheduler_patience = 4\n",
    "    lr_scheduler_factor = 0.5\n",
    "    \n",
    "    # Dropout rates for uncertainty estimation\n",
    "    dropout_rate = 0.3\n",
    "    mc_dropout_samples = 20  # Monte Carlo dropout samples for uncertainty\n",
    "    \n",
    "    # Device\n",
    "    device = torch.device('cuda' if torch.cuda.is_available() else 'cpu')\n",
    "\n",
    "config = ActiveLearningConfig()\n",
    "print(f\"Training on: {config.device}\")\n",
    "print(f\"Active Learning Configuration:\")\n",
    "print(f\"  Initial labeled data: {config.initial_labeled_size*100:.0f}%\")\n",
    "print(f\"  Query size per iteration: {config.query_size*100:.0f}%\")\n",
    "print(f\"  Number of AL iterations: {config.al_iterations}\")\n",
    "print(f\"  Uncertainty method: {config.uncertainty_method}\")"
   ]
  },
  {
   "cell_type": "markdown",
   "id": "f846725f",
   "metadata": {},
   "source": [
    "## 3. Focal Loss for Class Imbalance"
   ]
  },
  {
   "cell_type": "code",
   "execution_count": 4,
   "id": "06348bf2",
   "metadata": {},
   "outputs": [
    {
     "name": "stdout",
     "output_type": "stream",
     "text": [
      "Focal Loss and Uncertainty Mixin defined!\n"
     ]
    }
   ],
   "source": [
    "class FocalLoss(nn.Module):\n",
    "    \"\"\"\n",
    "    Focal Loss for handling class imbalance\n",
    "    Helps with the tuberculosis classification problem\n",
    "    \"\"\"\n",
    "    def __init__(self, alpha=None, gamma=2.0, reduction='mean'):\n",
    "        super(FocalLoss, self).__init__()\n",
    "        self.alpha = alpha\n",
    "        self.gamma = gamma\n",
    "        self.reduction = reduction\n",
    "        \n",
    "    def forward(self, inputs, targets):\n",
    "        ce_loss = F.cross_entropy(inputs, targets, reduction='none')\n",
    "        pt = torch.exp(-ce_loss)\n",
    "        \n",
    "        if self.alpha is not None:\n",
    "            if isinstance(self.alpha, (float, int)):\n",
    "                alpha_t = self.alpha\n",
    "            else:\n",
    "                alpha_t = self.alpha[targets]\n",
    "            focal_loss = alpha_t * (1 - pt) ** self.gamma * ce_loss\n",
    "        else:\n",
    "            focal_loss = (1 - pt) ** self.gamma * ce_loss\n",
    "        \n",
    "        if self.reduction == 'mean':\n",
    "            return focal_loss.mean()\n",
    "        elif self.reduction == 'sum':\n",
    "            return focal_loss.sum()\n",
    "        else:\n",
    "            return focal_loss\n",
    "\n",
    "class UncertaintyMixin:\n",
    "    \"\"\"Mixin for uncertainty estimation using Monte Carlo Dropout\"\"\"\n",
    "    \n",
    "    def enable_dropout(self):\n",
    "        \"\"\"Enable dropout during inference for uncertainty estimation\"\"\"\n",
    "        for m in self.modules():\n",
    "            if isinstance(m, nn.Dropout) or isinstance(m, nn.Dropout2d):\n",
    "                m.train()\n",
    "    \n",
    "    def get_uncertainty_scores(self, dataloader, num_samples=20):\n",
    "        \"\"\"\n",
    "        Get uncertainty scores using Monte Carlo Dropout\n",
    "        \"\"\"\n",
    "        self.eval()\n",
    "        uncertainties = []\n",
    "        predictions = []\n",
    "        \n",
    "        with torch.no_grad():\n",
    "            for inputs, _ in dataloader:\n",
    "                inputs = inputs.to(config.device)\n",
    "                \n",
    "                # Multiple forward passes with dropout enabled\n",
    "                outputs_list = []\n",
    "                for _ in range(num_samples):\n",
    "                    self.enable_dropout()\n",
    "                    with torch.cuda.amp.autocast():\n",
    "                        outputs = self(inputs)\n",
    "                        probs = F.softmax(outputs, dim=1)\n",
    "                        outputs_list.append(probs.cpu())\n",
    "                \n",
    "                # Stack all predictions\n",
    "                all_outputs = torch.stack(outputs_list)  # [num_samples, batch_size, num_classes]\n",
    "                \n",
    "                # Calculate mean and uncertainty\n",
    "                mean_probs = all_outputs.mean(dim=0)\n",
    "                predictions.extend(mean_probs.numpy())\n",
    "                \n",
    "                # Calculate entropy as uncertainty measure\n",
    "                entropy = -torch.sum(mean_probs * torch.log(mean_probs + 1e-8), dim=1)\n",
    "                uncertainties.extend(entropy.numpy())\n",
    "        \n",
    "        return np.array(uncertainties), np.array(predictions)\n",
    "\n",
    "print(\"Focal Loss and Uncertainty Mixin defined!\")"
   ]
  },
  {
   "cell_type": "markdown",
   "id": "e03950fd",
   "metadata": {},
   "source": [
    "## 4. Enhanced CNN Architecture with Uncertainty Support"
   ]
  },
  {
   "cell_type": "code",
   "execution_count": 5,
   "id": "feec9ec1",
   "metadata": {},
   "outputs": [
    {
     "name": "stdout",
     "output_type": "stream",
     "text": [
      "Enhanced CNN with uncertainty support defined!\n"
     ]
    }
   ],
   "source": [
    "class EnhancedChestXRayCNN(nn.Module, UncertaintyMixin):\n",
    "    \"\"\"Enhanced CNN with better regularization and uncertainty support\"\"\"\n",
    "    \n",
    "    def __init__(self, num_classes=3, dropout_rate=0.3):\n",
    "        super(EnhancedChestXRayCNN, self).__init__()\n",
    "        self.dropout_rate = dropout_rate\n",
    "        \n",
    "        # Enhanced Convolutional Block 1\n",
    "        self.conv1 = nn.Sequential(\n",
    "            nn.Conv2d(3, 64, kernel_size=3, padding=1),\n",
    "            nn.BatchNorm2d(64),\n",
    "            nn.ReLU(inplace=True),\n",
    "            nn.Conv2d(64, 64, kernel_size=3, padding=1),\n",
    "            nn.BatchNorm2d(64),\n",
    "            nn.ReLU(inplace=True),\n",
    "            nn.MaxPool2d(kernel_size=2, stride=2),\n",
    "            nn.Dropout2d(0.2)\n",
    "        )\n",
    "        \n",
    "        # Enhanced Convolutional Block 2\n",
    "        self.conv2 = nn.Sequential(\n",
    "            nn.Conv2d(64, 128, kernel_size=3, padding=1),\n",
    "            nn.BatchNorm2d(128),\n",
    "            nn.ReLU(inplace=True),\n",
    "            nn.Conv2d(128, 128, kernel_size=3, padding=1),\n",
    "            nn.BatchNorm2d(128),\n",
    "            nn.ReLU(inplace=True),\n",
    "            nn.MaxPool2d(kernel_size=2, stride=2),\n",
    "            nn.Dropout2d(0.25)\n",
    "        )\n",
    "        \n",
    "        # Enhanced Convolutional Block 3 with Attention\n",
    "        self.conv3 = nn.Sequential(\n",
    "            nn.Conv2d(128, 256, kernel_size=3, padding=1),\n",
    "            nn.BatchNorm2d(256),\n",
    "            nn.ReLU(inplace=True),\n",
    "            nn.Conv2d(256, 256, kernel_size=3, padding=1),\n",
    "            nn.BatchNorm2d(256),\n",
    "            nn.ReLU(inplace=True),\n",
    "            nn.Conv2d(256, 256, kernel_size=3, padding=1),\n",
    "            nn.BatchNorm2d(256),\n",
    "            nn.ReLU(inplace=True),\n",
    "            nn.MaxPool2d(kernel_size=2, stride=2),\n",
    "            nn.Dropout2d(dropout_rate)\n",
    "        )\n",
    "        \n",
    "        # Enhanced Convolutional Block 4\n",
    "        self.conv4 = nn.Sequential(\n",
    "            nn.Conv2d(256, 512, kernel_size=3, padding=1),\n",
    "            nn.BatchNorm2d(512),\n",
    "            nn.ReLU(inplace=True),\n",
    "            nn.Conv2d(512, 512, kernel_size=3, padding=1),\n",
    "            nn.BatchNorm2d(512),\n",
    "            nn.ReLU(inplace=True),\n",
    "            nn.Conv2d(512, 512, kernel_size=3, padding=1),\n",
    "            nn.BatchNorm2d(512),\n",
    "            nn.ReLU(inplace=True),\n",
    "            nn.MaxPool2d(kernel_size=2, stride=2),\n",
    "            nn.Dropout2d(dropout_rate)\n",
    "        )\n",
    "        \n",
    "        # Enhanced Convolutional Block 5\n",
    "        self.conv5 = nn.Sequential(\n",
    "            nn.Conv2d(512, 512, kernel_size=3, padding=1),\n",
    "            nn.BatchNorm2d(512),\n",
    "            nn.ReLU(inplace=True),\n",
    "            nn.Conv2d(512, 512, kernel_size=3, padding=1),\n",
    "            nn.BatchNorm2d(512),\n",
    "            nn.ReLU(inplace=True),\n",
    "            nn.Conv2d(512, 512, kernel_size=3, padding=1),\n",
    "            nn.BatchNorm2d(512),\n",
    "            nn.ReLU(inplace=True),\n",
    "            nn.MaxPool2d(kernel_size=2, stride=2),\n",
    "            nn.Dropout2d(dropout_rate)\n",
    "        )\n",
    "        \n",
    "        # Spatial Attention Module\n",
    "        self.spatial_attention = nn.Sequential(\n",
    "            nn.Conv2d(512, 128, kernel_size=1),\n",
    "            nn.ReLU(inplace=True),\n",
    "            nn.Conv2d(128, 1, kernel_size=1),\n",
    "            nn.Sigmoid()\n",
    "        )\n",
    "        \n",
    "        # Adaptive pooling\n",
    "        self.adaptive_pool = nn.AdaptiveAvgPool2d((7, 7))\n",
    "        \n",
    "        # Enhanced classifier with better regularization\n",
    "        self.classifier = nn.Sequential(\n",
    "            nn.Flatten(),\n",
    "            nn.Linear(512 * 7 * 7, 2048),\n",
    "            nn.BatchNorm1d(2048),\n",
    "            nn.ReLU(inplace=True),\n",
    "            nn.Dropout(dropout_rate),\n",
    "            nn.Linear(2048, 1024),\n",
    "            nn.BatchNorm1d(1024),\n",
    "            nn.ReLU(inplace=True),\n",
    "            nn.Dropout(dropout_rate),\n",
    "            nn.Linear(1024, 512),\n",
    "            nn.BatchNorm1d(512),\n",
    "            nn.ReLU(inplace=True),\n",
    "            nn.Dropout(dropout_rate),\n",
    "            nn.Linear(512, num_classes)\n",
    "        )\n",
    "        \n",
    "        # Initialize weights\n",
    "        self._initialize_weights()\n",
    "    \n",
    "    def forward(self, x):\n",
    "        x = self.conv1(x)\n",
    "        x = self.conv2(x)\n",
    "        x = self.conv3(x)\n",
    "        x = self.conv4(x)\n",
    "        x = self.conv5(x)\n",
    "        \n",
    "        # Apply spatial attention\n",
    "        attention = self.spatial_attention(x)\n",
    "        x = x * attention\n",
    "        \n",
    "        x = self.adaptive_pool(x)\n",
    "        x = self.classifier(x)\n",
    "        return x\n",
    "    \n",
    "    def _initialize_weights(self):\n",
    "        for m in self.modules():\n",
    "            if isinstance(m, nn.Conv2d):\n",
    "                nn.init.kaiming_normal_(m.weight, mode='fan_out', nonlinearity='relu')\n",
    "                if m.bias is not None:\n",
    "                    nn.init.constant_(m.bias, 0)\n",
    "            elif isinstance(m, (nn.BatchNorm2d, nn.BatchNorm1d)):\n",
    "                nn.init.constant_(m.weight, 1)\n",
    "                nn.init.constant_(m.bias, 0)\n",
    "            elif isinstance(m, nn.Linear):\n",
    "                nn.init.normal_(m.weight, 0, 0.01)\n",
    "                nn.init.constant_(m.bias, 0)\n",
    "\n",
    "print(\"Enhanced CNN with uncertainty support defined!\")"
   ]
  },
  {
   "cell_type": "markdown",
   "id": "f0c75437",
   "metadata": {},
   "source": [
    "## 5. Active Learning Framework"
   ]
  },
  {
   "cell_type": "code",
   "execution_count": 6,
   "id": "c8a0caa8",
   "metadata": {},
   "outputs": [
    {
     "name": "stdout",
     "output_type": "stream",
     "text": [
      "Active Learning Framework defined!\n"
     ]
    }
   ],
   "source": [
    "class ActiveLearningFramework:\n",
    "    \"\"\"Active Learning Framework for Chest X-Ray Classification\"\"\"\n",
    "    \n",
    "    def __init__(self, config, full_dataset):\n",
    "        self.config = config\n",
    "        self.full_dataset = full_dataset\n",
    "        self.labeled_indices = set()\n",
    "        self.unlabeled_indices = set(range(len(full_dataset)))\n",
    "        \n",
    "        # Initialize with stratified sampling\n",
    "        self._initialize_labeled_data()\n",
    "        \n",
    "        # Track performance over iterations\n",
    "        self.performance_history = {\n",
    "            'iteration': [],\n",
    "            'labeled_size': [],\n",
    "            'val_acc': [],\n",
    "            'test_acc': [],\n",
    "            'tb_recall': [],\n",
    "            'tb_precision': [],\n",
    "            'tb_f1': []\n",
    "        }\n",
    "    \n",
    "    def _initialize_labeled_data(self):\n",
    "        \"\"\"Initialize labeled data with stratified sampling\"\"\"\n",
    "        # Get class distribution\n",
    "        targets = [self.full_dataset[i][1] for i in range(len(self.full_dataset))]\n",
    "        class_counts = Counter(targets)\n",
    "        \n",
    "        # Sample from each class\n",
    "        samples_per_class = {\n",
    "            cls: max(1, int(count * self.config.initial_labeled_size)) \n",
    "            for cls, count in class_counts.items()\n",
    "        }\n",
    "        \n",
    "        # Group indices by class\n",
    "        class_indices = {cls: [] for cls in class_counts.keys()}\n",
    "        for idx, target in enumerate(targets):\n",
    "            class_indices[target].append(idx)\n",
    "        \n",
    "        # Sample initial labeled data\n",
    "        for cls, indices in class_indices.items():\n",
    "            sampled = random.sample(indices, min(samples_per_class[cls], len(indices)))\n",
    "            self.labeled_indices.update(sampled)\n",
    "        \n",
    "        # Update unlabeled indices\n",
    "        self.unlabeled_indices -= self.labeled_indices\n",
    "        \n",
    "        print(f\"Initial labeled data: {len(self.labeled_indices)} samples\")\n",
    "        print(f\"Remaining unlabeled: {len(self.unlabeled_indices)} samples\")\n",
    "    \n",
    "    def get_uncertainty_scores(self, model, unlabeled_loader):\n",
    "        \"\"\"Calculate uncertainty scores for unlabeled data\"\"\"\n",
    "        uncertainties, predictions = model.get_uncertainty_scores(\n",
    "            unlabeled_loader, num_samples=self.config.mc_dropout_samples\n",
    "        )\n",
    "        return uncertainties\n",
    "    \n",
    "    def query_samples(self, model, query_size):\n",
    "        \"\"\"Query most uncertain samples for labeling\"\"\"\n",
    "        if len(self.unlabeled_indices) == 0:\n",
    "            return []\n",
    "        \n",
    "        # Define validation transform for uncertainty estimation\n",
    "        uncertainty_transform = transforms.Compose([\n",
    "            transforms.Resize((self.config.img_size, self.config.img_size)),\n",
    "            transforms.ToTensor(),\n",
    "            transforms.Normalize(mean=[0.485, 0.456, 0.406], \n",
    "                               std=[0.229, 0.224, 0.225])\n",
    "        ])\n",
    "        \n",
    "        # Create a copy of the dataset with proper transforms for uncertainty estimation\n",
    "        unlabeled_dataset = copy.deepcopy(self.full_dataset)\n",
    "        unlabeled_dataset.transform = uncertainty_transform  # Use validation transform for uncertainty\n",
    "        \n",
    "        # Create dataloader for unlabeled data\n",
    "        unlabeled_subset = Subset(unlabeled_dataset, list(self.unlabeled_indices))\n",
    "        unlabeled_loader = DataLoader(\n",
    "            unlabeled_subset,\n",
    "            batch_size=self.config.batch_size,\n",
    "            shuffle=False,\n",
    "            num_workers=self.config.num_workers\n",
    "        )\n",
    "        \n",
    "        # Get uncertainty scores\n",
    "        uncertainties = self.get_uncertainty_scores(model, unlabeled_loader)\n",
    "        \n",
    "        # Select most uncertain samples\n",
    "        uncertain_indices = np.argsort(uncertainties)[::-1]  # Descending order\n",
    "        \n",
    "        # Convert subset indices back to full dataset indices\n",
    "        unlabeled_list = list(self.unlabeled_indices)\n",
    "        query_indices = [unlabeled_list[i] for i in uncertain_indices[:query_size]]\n",
    "        \n",
    "        # Update labeled and unlabeled sets\n",
    "        self.labeled_indices.update(query_indices)\n",
    "        self.unlabeled_indices -= set(query_indices)\n",
    "        \n",
    "        print(f\"Queried {len(query_indices)} samples\")\n",
    "        print(f\"Total labeled: {len(self.labeled_indices)}\")\n",
    "        print(f\"Remaining unlabeled: {len(self.unlabeled_indices)}\")\n",
    "        \n",
    "        return query_indices\n",
    "    \n",
    "    def get_labeled_dataloader(self, transform=None):\n",
    "        \"\"\"Get dataloader for currently labeled data\"\"\"\n",
    "        if transform is not None:\n",
    "            # Create a copy of dataset with new transform\n",
    "            labeled_dataset = copy.deepcopy(self.full_dataset)\n",
    "            labeled_dataset.transform = transform\n",
    "        else:\n",
    "            labeled_dataset = self.full_dataset\n",
    "            \n",
    "        labeled_subset = Subset(labeled_dataset, list(self.labeled_indices))\n",
    "        \n",
    "        return DataLoader(\n",
    "            labeled_subset,\n",
    "            batch_size=self.config.batch_size,\n",
    "            shuffle=True,\n",
    "            num_workers=self.config.num_workers,\n",
    "            pin_memory=self.config.pin_memory\n",
    "        )\n",
    "    \n",
    "    def update_performance(self, iteration, val_metrics, test_metrics):\n",
    "        \"\"\"Update performance tracking\"\"\"\n",
    "        self.performance_history['iteration'].append(iteration)\n",
    "        self.performance_history['labeled_size'].append(len(self.labeled_indices))\n",
    "        self.performance_history['val_acc'].append(val_metrics['accuracy'])\n",
    "        self.performance_history['test_acc'].append(test_metrics['accuracy'])\n",
    "        self.performance_history['tb_recall'].append(test_metrics['tb_recall'])\n",
    "        self.performance_history['tb_precision'].append(test_metrics['tb_precision'])\n",
    "        self.performance_history['tb_f1'].append(test_metrics['tb_f1'])\n",
    "\n",
    "print(\"Active Learning Framework defined!\")"
   ]
  },
  {
   "cell_type": "markdown",
   "id": "f1cd6345",
   "metadata": {},
   "source": [
    "## 6. Enhanced Data Augmentation"
   ]
  },
  {
   "cell_type": "code",
   "execution_count": 7,
   "id": "9ea51479",
   "metadata": {},
   "outputs": [
    {
     "name": "stdout",
     "output_type": "stream",
     "text": [
      "Enhanced data transforms defined!\n"
     ]
    }
   ],
   "source": [
    "# Enhanced data augmentation focusing on medical images\n",
    "train_transform = transforms.Compose([\n",
    "    transforms.Resize((config.img_size, config.img_size)),\n",
    "    transforms.RandomHorizontalFlip(p=0.5),\n",
    "    transforms.RandomRotation(10),  # Reduced rotation for medical images\n",
    "    transforms.RandomAffine(degrees=0, translate=(0.05, 0.05), scale=(0.95, 1.05)),\n",
    "    transforms.ColorJitter(brightness=0.15, contrast=0.15, saturation=0.1),\n",
    "    transforms.RandomResizedCrop(config.img_size, scale=(0.85, 1.0)),\n",
    "    # Medical-specific augmentations\n",
    "    transforms.RandomApply([\n",
    "        transforms.GaussianBlur(kernel_size=3, sigma=(0.1, 2.0))\n",
    "    ], p=0.3),\n",
    "    transforms.ToTensor(),\n",
    "    transforms.Normalize(mean=[0.485, 0.456, 0.406], \n",
    "                       std=[0.229, 0.224, 0.225]),\n",
    "    # Add noise for robustness\n",
    "    transforms.Lambda(lambda x: x + torch.randn_like(x) * 0.01)\n",
    "])\n",
    "\n",
    "val_test_transform = transforms.Compose([\n",
    "    transforms.Resize((config.img_size, config.img_size)),\n",
    "    transforms.ToTensor(),\n",
    "    transforms.Normalize(mean=[0.485, 0.456, 0.406], \n",
    "                       std=[0.229, 0.224, 0.225])\n",
    "])\n",
    "\n",
    "print(\"Enhanced data transforms defined!\")"
   ]
  },
  {
   "cell_type": "markdown",
   "id": "8864b8ed",
   "metadata": {},
   "source": [
    "## 7. Load Dataset and Initialize Active Learning"
   ]
  },
  {
   "cell_type": "code",
   "execution_count": 8,
   "id": "ce2dff20",
   "metadata": {},
   "outputs": [
    {
     "name": "stdout",
     "output_type": "stream",
     "text": [
      "Loading datasets...\n",
      "Classes: ['normal', 'pneumonia', 'tuberculosis']\n",
      "Train samples: 20450\n",
      "Validation samples: 2534\n",
      "Test samples: 2569\n",
      "\n",
      "Initializing Active Learning Framework...\n"
     ]
    },
    {
     "name": "stdout",
     "output_type": "stream",
     "text": [
      "Initial labeled data: 6133 samples\n",
      "Remaining unlabeled: 14317 samples\n",
      "\n",
      "Active Learning Setup Complete!\n",
      "Initial labeled samples: 6133\n",
      "Available unlabeled samples: 14317\n"
     ]
    }
   ],
   "source": [
    "# Load datasets\n",
    "print(\"Loading datasets...\")\n",
    "train_dataset = ImageFolder(root=config.train_dir, transform=None)  # Transform will be applied dynamically\n",
    "val_dataset = ImageFolder(root=config.val_dir, transform=val_test_transform)\n",
    "test_dataset = ImageFolder(root=config.test_dir, transform=val_test_transform)\n",
    "\n",
    "# Create validation and test loaders\n",
    "val_loader = DataLoader(\n",
    "    val_dataset,\n",
    "    batch_size=config.batch_size,\n",
    "    shuffle=False,\n",
    "    num_workers=config.num_workers,\n",
    "    pin_memory=config.pin_memory\n",
    ")\n",
    "\n",
    "test_loader = DataLoader(\n",
    "    test_dataset,\n",
    "    batch_size=config.batch_size,\n",
    "    shuffle=False,\n",
    "    num_workers=config.num_workers,\n",
    "    pin_memory=config.pin_memory\n",
    ")\n",
    "\n",
    "# Get class names\n",
    "class_names = train_dataset.classes\n",
    "print(f\"Classes: {class_names}\")\n",
    "print(f\"Train samples: {len(train_dataset)}\")\n",
    "print(f\"Validation samples: {len(val_dataset)}\")\n",
    "print(f\"Test samples: {len(test_dataset)}\")\n",
    "\n",
    "# Initialize Active Learning Framework\n",
    "print(f\"\\nInitializing Active Learning Framework...\")\n",
    "al_framework = ActiveLearningFramework(config, train_dataset)\n",
    "\n",
    "print(f\"\\nActive Learning Setup Complete!\")\n",
    "print(f\"Initial labeled samples: {len(al_framework.labeled_indices)}\")\n",
    "print(f\"Available unlabeled samples: {len(al_framework.unlabeled_indices)}\")"
   ]
  },
  {
   "cell_type": "markdown",
   "id": "cfc8b58e",
   "metadata": {},
   "source": [
    "## 8. Training and Evaluation Functions"
   ]
  },
  {
   "cell_type": "code",
   "execution_count": 9,
   "id": "3fdfb82c",
   "metadata": {},
   "outputs": [
    {
     "name": "stdout",
     "output_type": "stream",
     "text": [
      "Training and evaluation functions defined!\n"
     ]
    }
   ],
   "source": [
    "def train_epoch_enhanced(model, dataloader, criterion, optimizer, scaler, device):\n",
    "    \"\"\"Enhanced training epoch\"\"\"\n",
    "    model.train()\n",
    "    running_loss = 0.0\n",
    "    correct = 0\n",
    "    total = 0\n",
    "    \n",
    "    for inputs, labels in tqdm(dataloader, desc='Training'):\n",
    "        inputs = inputs.to(device, non_blocking=True)\n",
    "        labels = labels.to(device, non_blocking=True)\n",
    "        \n",
    "        optimizer.zero_grad(set_to_none=True)\n",
    "        \n",
    "        with torch.cuda.amp.autocast():\n",
    "            outputs = model(inputs)\n",
    "            loss = criterion(outputs, labels)\n",
    "        \n",
    "        scaler.scale(loss).backward()\n",
    "        scaler.unscale_(optimizer)\n",
    "        torch.nn.utils.clip_grad_norm_(model.parameters(), max_norm=1.0)\n",
    "        scaler.step(optimizer)\n",
    "        scaler.update()\n",
    "        \n",
    "        running_loss += loss.item() * inputs.size(0)\n",
    "        _, predicted = torch.max(outputs, 1)\n",
    "        total += labels.size(0)\n",
    "        correct += (predicted == labels).sum().item()\n",
    "    \n",
    "    return running_loss / total, 100.0 * correct / total\n",
    "\n",
    "def evaluate_model_enhanced(model, dataloader, criterion, device, class_names):\n",
    "    \"\"\"Enhanced model evaluation\"\"\"\n",
    "    model.eval()\n",
    "    running_loss = 0.0\n",
    "    all_preds = []\n",
    "    all_labels = []\n",
    "    \n",
    "    with torch.no_grad():\n",
    "        for inputs, labels in tqdm(dataloader, desc='Evaluating'):\n",
    "            inputs = inputs.to(device, non_blocking=True)\n",
    "            labels = labels.to(device, non_blocking=True)\n",
    "            \n",
    "            with torch.cuda.amp.autocast():\n",
    "                outputs = model(inputs)\n",
    "                loss = criterion(outputs, labels)\n",
    "            \n",
    "            running_loss += loss.item() * inputs.size(0)\n",
    "            _, predicted = torch.max(outputs, 1)\n",
    "            \n",
    "            all_preds.extend(predicted.cpu().numpy())\n",
    "            all_labels.extend(labels.cpu().numpy())\n",
    "    \n",
    "    total_loss = running_loss / len(dataloader.dataset)\n",
    "    accuracy = 100.0 * np.sum(np.array(all_preds) == np.array(all_labels)) / len(all_labels)\n",
    "    \n",
    "    # Calculate TB-specific metrics\n",
    "    report = classification_report(all_labels, all_preds, target_names=class_names, \n",
    "                                 output_dict=True, zero_division=0)\n",
    "    \n",
    "    tb_idx = class_names.index('tuberculosis') if 'tuberculosis' in class_names else 2\n",
    "    tb_f1 = f1_score(all_labels, all_preds, labels=[tb_idx], average='macro') * 100\n",
    "    \n",
    "    return {\n",
    "        'loss': total_loss,\n",
    "        'accuracy': accuracy,\n",
    "        'tb_f1': tb_f1,\n",
    "        'report': report,\n",
    "        'predictions': all_preds,\n",
    "        'labels': all_labels\n",
    "    }\n",
    "\n",
    "print(\"Training and evaluation functions defined!\")"
   ]
  },
  {
   "cell_type": "markdown",
   "id": "f27ce134",
   "metadata": {},
   "source": [
    "## 9. Execute Active Learning Training"
   ]
  },
  {
   "cell_type": "code",
   "execution_count": null,
   "id": "8d6f3d39",
   "metadata": {},
   "outputs": [
    {
     "name": "stdout",
     "output_type": "stream",
     "text": [
      "🚀 Starting Active Learning Training!\n",
      "================================================================================\n",
      "\n",
      "🔄 ACTIVE LEARNING ITERATION 1/5\n",
      "------------------------------------------------------------\n",
      "📊 Training with 6133 labeled samples\n",
      "📊 Training with 6133 labeled samples\n"
     ]
    },
    {
     "name": "stderr",
     "output_type": "stream",
     "text": [
      "Training:   0%|          | 0/192 [00:00<?, ?it/s]"
     ]
    },
    {
     "name": "stderr",
     "output_type": "stream",
     "text": [
      "Training: 100%|██████████| 192/192 [01:01<00:00,  3.11it/s]\n",
      "Training: 100%|██████████| 192/192 [01:01<00:00,  3.11it/s]\n",
      "Evaluating: 100%|██████████| 80/80 [00:08<00:00,  9.13it/s]\n",
      "\n"
     ]
    },
    {
     "name": "stdout",
     "output_type": "stream",
     "text": [
      "Epoch  1: Train Acc: 54.9% | Val Acc: 62.3% | TB F1: 70.6%\n"
     ]
    },
    {
     "name": "stderr",
     "output_type": "stream",
     "text": [
      "Training: 100%|██████████| 192/192 [00:25<00:00,  7.39it/s]\n",
      "Training: 100%|██████████| 192/192 [00:25<00:00,  7.39it/s]\n",
      "Evaluating: 100%|██████████| 80/80 [00:08<00:00,  9.72it/s]\n",
      "Evaluating: 100%|██████████| 80/80 [00:08<00:00,  9.72it/s]\n",
      "Training: 100%|██████████| 192/192 [00:26<00:00,  7.31it/s]\n",
      "Training: 100%|██████████| 192/192 [00:26<00:00,  7.31it/s]\n",
      "Evaluating: 100%|██████████| 80/80 [00:08<00:00,  9.58it/s]\n",
      "Evaluating: 100%|██████████| 80/80 [00:08<00:00,  9.58it/s]\n",
      "Training: 100%|██████████| 192/192 [00:25<00:00,  7.40it/s]\n",
      "Training: 100%|██████████| 192/192 [00:25<00:00,  7.40it/s]\n",
      "Evaluating: 100%|██████████| 80/80 [00:08<00:00,  9.39it/s]\n",
      "Evaluating: 100%|██████████| 80/80 [00:08<00:00,  9.39it/s]\n",
      "Training: 100%|██████████| 192/192 [00:26<00:00,  7.35it/s]\n",
      "Training: 100%|██████████| 192/192 [00:26<00:00,  7.35it/s]\n",
      "Evaluating: 100%|██████████| 80/80 [00:08<00:00,  9.41it/s]\n",
      "\n",
      "Training: 100%|██████████| 192/192 [00:26<00:00,  7.38it/s]\n",
      "Training: 100%|██████████| 192/192 [00:26<00:00,  7.38it/s]\n",
      "Evaluating: 100%|██████████| 80/80 [00:08<00:00,  9.48it/s]\n",
      "\n"
     ]
    },
    {
     "name": "stdout",
     "output_type": "stream",
     "text": [
      "Epoch  6: Train Acc: 65.1% | Val Acc: 63.3% | TB F1: 73.4%\n"
     ]
    },
    {
     "name": "stderr",
     "output_type": "stream",
     "text": [
      "Training: 100%|██████████| 192/192 [00:26<00:00,  7.23it/s]\n",
      "Training: 100%|██████████| 192/192 [00:26<00:00,  7.23it/s]\n",
      "Evaluating: 100%|██████████| 80/80 [00:08<00:00,  9.59it/s]\n",
      "\n",
      "Training: 100%|██████████| 192/192 [00:25<00:00,  7.41it/s]\n",
      "Training: 100%|██████████| 192/192 [00:25<00:00,  7.41it/s]\n",
      "Evaluating: 100%|██████████| 80/80 [00:08<00:00,  9.46it/s]\n",
      "Evaluating: 100%|██████████| 80/80 [00:08<00:00,  9.46it/s]\n",
      "Training: 100%|██████████| 192/192 [00:26<00:00,  7.29it/s]\n",
      "Training: 100%|██████████| 192/192 [00:26<00:00,  7.29it/s]\n",
      "Evaluating: 100%|██████████| 80/80 [00:08<00:00,  9.54it/s]\n",
      "Training:   0%|          | 0/192 [00:00<?, ?it/s]\n",
      "Training: 100%|██████████| 192/192 [00:26<00:00,  7.28it/s]\n",
      "Training: 100%|██████████| 192/192 [00:26<00:00,  7.28it/s]\n",
      "Evaluating: 100%|██████████| 80/80 [00:08<00:00,  9.56it/s]\n",
      "\n",
      "Training: 100%|██████████| 192/192 [00:26<00:00,  7.36it/s]\n",
      "Training: 100%|██████████| 192/192 [00:26<00:00,  7.36it/s]\n",
      "Evaluating: 100%|██████████| 80/80 [00:08<00:00,  9.50it/s]\n",
      "\n"
     ]
    },
    {
     "name": "stdout",
     "output_type": "stream",
     "text": [
      "Epoch 11: Train Acc: 65.9% | Val Acc: 73.6% | TB F1: 72.2%\n"
     ]
    },
    {
     "name": "stderr",
     "output_type": "stream",
     "text": [
      "Training: 100%|██████████| 192/192 [00:26<00:00,  7.30it/s]\n",
      "Training: 100%|██████████| 192/192 [00:26<00:00,  7.30it/s]\n",
      "Evaluating: 100%|██████████| 80/80 [00:08<00:00,  9.55it/s]\n",
      "Training:   0%|          | 0/192 [00:00<?, ?it/s]\n",
      "Training: 100%|██████████| 192/192 [00:26<00:00,  7.38it/s]\n",
      "Training: 100%|██████████| 192/192 [00:26<00:00,  7.38it/s]\n",
      "Evaluating: 100%|██████████| 80/80 [00:08<00:00,  9.78it/s]\n",
      "Training:   0%|          | 0/192 [00:00<?, ?it/s]\n",
      "Training: 100%|██████████| 192/192 [00:25<00:00,  7.43it/s]\n",
      "Training: 100%|██████████| 192/192 [00:25<00:00,  7.43it/s]\n",
      "Evaluating: 100%|██████████| 80/80 [00:08<00:00,  9.53it/s]\n",
      "\n",
      "Training: 100%|██████████| 192/192 [00:26<00:00,  7.36it/s]\n",
      "Training: 100%|██████████| 192/192 [00:26<00:00,  7.36it/s]\n",
      "Evaluating: 100%|██████████| 80/80 [00:08<00:00,  9.51it/s]\n",
      "Training:   0%|          | 0/192 [00:00<?, ?it/s]\n",
      "Training: 100%|██████████| 192/192 [00:26<00:00,  7.22it/s]\n",
      "Training: 100%|██████████| 192/192 [00:26<00:00,  7.22it/s]\n",
      "Evaluating: 100%|██████████| 80/80 [00:08<00:00,  9.39it/s]\n",
      "\n"
     ]
    },
    {
     "name": "stdout",
     "output_type": "stream",
     "text": [
      "Epoch 16: Train Acc: 66.9% | Val Acc: 72.6% | TB F1: 75.7%\n"
     ]
    },
    {
     "name": "stderr",
     "output_type": "stream",
     "text": [
      "Training: 100%|██████████| 192/192 [00:26<00:00,  7.36it/s]\n",
      "Training: 100%|██████████| 192/192 [00:26<00:00,  7.36it/s]\n",
      "Evaluating: 100%|██████████| 80/80 [00:08<00:00,  9.88it/s]\n",
      "\n",
      "Training: 100%|██████████| 192/192 [00:26<00:00,  7.33it/s]\n",
      "Training: 100%|██████████| 192/192 [00:26<00:00,  7.33it/s]\n",
      "Evaluating: 100%|██████████| 80/80 [00:08<00:00,  9.34it/s]\n",
      "Training:   0%|          | 0/192 [00:00<?, ?it/s]\n",
      "Training: 100%|██████████| 192/192 [00:26<00:00,  7.38it/s]\n",
      "Training: 100%|██████████| 192/192 [00:26<00:00,  7.38it/s]\n",
      "Evaluating: 100%|██████████| 80/80 [00:08<00:00,  9.37it/s]\n",
      "Training:   0%|          | 0/192 [00:00<?, ?it/s]\n",
      "Training: 100%|██████████| 192/192 [00:25<00:00,  7.40it/s]\n",
      "Training: 100%|██████████| 192/192 [00:25<00:00,  7.40it/s]\n",
      "Evaluating: 100%|██████████| 80/80 [00:08<00:00,  9.41it/s]\n",
      "Training:   0%|          | 0/192 [00:00<?, ?it/s]\n",
      "Training: 100%|██████████| 192/192 [00:26<00:00,  7.17it/s]\n",
      "Training: 100%|██████████| 192/192 [00:26<00:00,  7.17it/s]\n",
      "Evaluating: 100%|██████████| 80/80 [00:08<00:00,  9.63it/s]\n",
      "Evaluating: 100%|██████████| 80/80 [00:08<00:00,  9.63it/s]\n"
     ]
    },
    {
     "name": "stdout",
     "output_type": "stream",
     "text": [
      "Epoch 21: Train Acc: 66.7% | Val Acc: 73.8% | TB F1: 75.1%\n"
     ]
    },
    {
     "name": "stderr",
     "output_type": "stream",
     "text": [
      "Training: 100%|██████████| 192/192 [00:25<00:00,  7.39it/s]\n",
      "Training: 100%|██████████| 192/192 [00:25<00:00,  7.39it/s]\n",
      "Evaluating: 100%|██████████| 80/80 [00:08<00:00,  9.70it/s]\n",
      "Training:   0%|          | 0/192 [00:00<?, ?it/s]\n",
      "Training: 100%|██████████| 192/192 [00:26<00:00,  7.29it/s]\n",
      "Training: 100%|██████████| 192/192 [00:26<00:00,  7.29it/s]\n",
      "Evaluating: 100%|██████████| 80/80 [00:08<00:00,  9.45it/s]\n",
      "Training:   0%|          | 0/192 [00:00<?, ?it/s]\n",
      "Training: 100%|██████████| 192/192 [00:26<00:00,  7.28it/s]\n",
      "Training: 100%|██████████| 192/192 [00:26<00:00,  7.28it/s]\n",
      "Evaluating: 100%|██████████| 80/80 [00:08<00:00,  9.71it/s]\n",
      "Evaluating: 100%|██████████| 80/80 [00:08<00:00,  9.71it/s]\n",
      "Training: 100%|██████████| 192/192 [00:26<00:00,  7.36it/s]\n",
      "Training: 100%|██████████| 192/192 [00:26<00:00,  7.36it/s]\n",
      "Evaluating: 100%|██████████| 80/80 [00:08<00:00,  9.29it/s]\n",
      "\n"
     ]
    },
    {
     "name": "stdout",
     "output_type": "stream",
     "text": [
      "⏹️  Early stopping at epoch 25\n"
     ]
    },
    {
     "name": "stderr",
     "output_type": "stream",
     "text": [
      "Evaluating: 100%|██████████| 81/81 [00:08<00:00,  9.15it/s]\n",
      "\n"
     ]
    },
    {
     "name": "stdout",
     "output_type": "stream",
     "text": [
      "✅ Iteration 1 Results:\n",
      "   Test Accuracy: 74.00%\n",
      "   TB F1-Score: 74.53%\n",
      "🏆 New best model saved! TB F1: 74.53%\n",
      "🏆 New best model saved! TB F1: 74.53%\n",
      "Queried 1431 samples\n",
      "Total labeled: 7564\n",
      "Remaining unlabeled: 12886\n",
      "🔍 Queried 1431 new samples\n",
      "\n",
      "🔄 ACTIVE LEARNING ITERATION 2/5\n",
      "------------------------------------------------------------\n",
      "Queried 1431 samples\n",
      "Total labeled: 7564\n",
      "Remaining unlabeled: 12886\n",
      "🔍 Queried 1431 new samples\n",
      "\n",
      "🔄 ACTIVE LEARNING ITERATION 2/5\n",
      "------------------------------------------------------------\n",
      "📊 Training with 7564 labeled samples\n",
      "📊 Training with 7564 labeled samples\n"
     ]
    },
    {
     "name": "stderr",
     "output_type": "stream",
     "text": [
      "Training: 100%|██████████| 237/237 [00:51<00:00,  4.62it/s]\n",
      "Training: 100%|██████████| 237/237 [00:51<00:00,  4.62it/s]\n",
      "Evaluating: 100%|██████████| 80/80 [00:08<00:00,  9.65it/s]\n",
      "\n"
     ]
    },
    {
     "name": "stdout",
     "output_type": "stream",
     "text": [
      "Epoch  1: Train Acc: 48.5% | Val Acc: 56.0% | TB F1: 64.7%\n"
     ]
    },
    {
     "name": "stderr",
     "output_type": "stream",
     "text": [
      "Training: 100%|██████████| 237/237 [00:33<00:00,  7.02it/s]\n",
      "Training: 100%|██████████| 237/237 [00:33<00:00,  7.02it/s]\n",
      "Evaluating: 100%|██████████| 80/80 [00:08<00:00,  9.62it/s]\n",
      "Evaluating: 100%|██████████| 80/80 [00:08<00:00,  9.62it/s]\n",
      "Training: 100%|██████████| 237/237 [00:33<00:00,  7.08it/s]\n",
      "Training: 100%|██████████| 237/237 [00:33<00:00,  7.08it/s]\n",
      "Evaluating: 100%|██████████| 80/80 [00:08<00:00,  9.59it/s]\n",
      "Training:   0%|          | 0/237 [00:00<?, ?it/s]\n",
      "Training: 100%|██████████| 237/237 [00:33<00:00,  7.14it/s]\n",
      "Training: 100%|██████████| 237/237 [00:33<00:00,  7.14it/s]\n",
      "Evaluating: 100%|██████████| 80/80 [00:08<00:00,  9.37it/s]\n",
      "Training:   0%|          | 0/237 [00:00<?, ?it/s]\n",
      "Training: 100%|██████████| 237/237 [00:33<00:00,  7.16it/s]\n",
      "Training: 100%|██████████| 237/237 [00:33<00:00,  7.16it/s]\n",
      "Evaluating: 100%|██████████| 80/80 [00:08<00:00,  9.31it/s]\n",
      "\n",
      "Training: 100%|██████████| 237/237 [00:33<00:00,  7.07it/s]\n",
      "Training: 100%|██████████| 237/237 [00:33<00:00,  7.07it/s]\n",
      "Evaluating: 100%|██████████| 80/80 [00:08<00:00,  9.29it/s]\n",
      "\n"
     ]
    },
    {
     "name": "stdout",
     "output_type": "stream",
     "text": [
      "Epoch  6: Train Acc: 61.9% | Val Acc: 63.2% | TB F1: 73.0%\n"
     ]
    },
    {
     "name": "stderr",
     "output_type": "stream",
     "text": [
      "Training: 100%|██████████| 237/237 [00:33<00:00,  7.13it/s]\n",
      "Training: 100%|██████████| 237/237 [00:33<00:00,  7.13it/s]\n",
      "Evaluating: 100%|██████████| 80/80 [00:08<00:00,  9.26it/s]\n",
      "Training:   0%|          | 0/237 [00:00<?, ?it/s]\n",
      "Training: 100%|██████████| 237/237 [00:33<00:00,  7.18it/s]\n",
      "Training: 100%|██████████| 237/237 [00:33<00:00,  7.18it/s]\n",
      "Evaluating: 100%|██████████| 80/80 [00:08<00:00,  9.32it/s]\n",
      "\n",
      "Training: 100%|██████████| 237/237 [00:33<00:00,  7.07it/s]\n",
      "Training: 100%|██████████| 237/237 [00:33<00:00,  7.07it/s]\n",
      "Evaluating: 100%|██████████| 80/80 [00:08<00:00,  9.42it/s]\n",
      "Training:   0%|          | 0/237 [00:00<?, ?it/s]\n",
      "Training: 100%|██████████| 237/237 [00:33<00:00,  7.15it/s]\n",
      "Training: 100%|██████████| 237/237 [00:33<00:00,  7.15it/s]\n",
      "Evaluating: 100%|██████████| 80/80 [00:08<00:00,  9.32it/s]\n",
      "\n",
      "Training: 100%|██████████| 237/237 [00:33<00:00,  7.05it/s]\n",
      "Training: 100%|██████████| 237/237 [00:33<00:00,  7.05it/s]\n",
      "Evaluating: 100%|██████████| 80/80 [00:08<00:00,  9.39it/s]\n",
      "Evaluating: 100%|██████████| 80/80 [00:08<00:00,  9.39it/s]\n"
     ]
    },
    {
     "name": "stdout",
     "output_type": "stream",
     "text": [
      "Epoch 11: Train Acc: 63.8% | Val Acc: 64.3% | TB F1: 73.8%\n"
     ]
    },
    {
     "name": "stderr",
     "output_type": "stream",
     "text": [
      "Training: 100%|██████████| 237/237 [00:33<00:00,  7.10it/s]\n",
      "Training: 100%|██████████| 237/237 [00:33<00:00,  7.10it/s]\n",
      "Evaluating: 100%|██████████| 80/80 [00:08<00:00,  9.69it/s]\n",
      "Training:   0%|          | 0/237 [00:00<?, ?it/s]\n",
      "Training: 100%|██████████| 237/237 [00:32<00:00,  7.18it/s]\n",
      "Training: 100%|██████████| 237/237 [00:32<00:00,  7.18it/s]\n",
      "Evaluating: 100%|██████████| 80/80 [00:08<00:00,  9.97it/s]\n",
      "Training:   0%|          | 0/237 [00:00<?, ?it/s]\n",
      "Training: 100%|██████████| 237/237 [00:33<00:00,  7.01it/s]\n",
      "Training: 100%|██████████| 237/237 [00:33<00:00,  7.01it/s]\n",
      "Evaluating: 100%|██████████| 80/80 [00:08<00:00,  9.41it/s]\n",
      "Evaluating: 100%|██████████| 80/80 [00:08<00:00,  9.41it/s]\n",
      "Training: 100%|██████████| 237/237 [00:32<00:00,  7.28it/s]\n",
      "Training: 100%|██████████| 237/237 [00:32<00:00,  7.28it/s]\n",
      "Evaluating: 100%|██████████| 80/80 [00:08<00:00,  9.30it/s]\n",
      "\n",
      "Training: 100%|██████████| 237/237 [00:33<00:00,  7.00it/s]\n",
      "Training: 100%|██████████| 237/237 [00:33<00:00,  7.00it/s]\n",
      "Evaluating: 100%|██████████| 80/80 [00:08<00:00,  9.64it/s]\n",
      "Evaluating: 100%|██████████| 80/80 [00:08<00:00,  9.64it/s]\n"
     ]
    },
    {
     "name": "stdout",
     "output_type": "stream",
     "text": [
      "Epoch 16: Train Acc: 65.3% | Val Acc: 63.9% | TB F1: 74.0%\n"
     ]
    },
    {
     "name": "stderr",
     "output_type": "stream",
     "text": [
      "Training: 100%|██████████| 237/237 [00:33<00:00,  7.13it/s]\n",
      "Training: 100%|██████████| 237/237 [00:33<00:00,  7.13it/s]\n",
      "Evaluating: 100%|██████████| 80/80 [00:08<00:00,  9.33it/s]\n",
      "Training:   0%|          | 0/237 [00:00<?, ?it/s]\n",
      "Training: 100%|██████████| 237/237 [00:33<00:00,  7.10it/s]\n",
      "Training: 100%|██████████| 237/237 [00:33<00:00,  7.10it/s]\n",
      "Evaluating: 100%|██████████| 80/80 [00:08<00:00,  9.33it/s]\n",
      "Evaluating: 100%|██████████| 80/80 [00:08<00:00,  9.33it/s]\n",
      "Training: 100%|██████████| 237/237 [00:33<00:00,  7.03it/s]\n",
      "Training: 100%|██████████| 237/237 [00:33<00:00,  7.03it/s]\n",
      "Evaluating: 100%|██████████| 80/80 [00:08<00:00,  9.38it/s]\n",
      "Training:   0%|          | 0/237 [00:00<?, ?it/s]\n",
      "Training: 100%|██████████| 237/237 [00:33<00:00,  7.10it/s]\n",
      "Training: 100%|██████████| 237/237 [00:33<00:00,  7.10it/s]\n",
      "Evaluating: 100%|██████████| 80/80 [00:08<00:00,  9.33it/s]\n",
      "\n",
      "Training: 100%|██████████| 237/237 [00:33<00:00,  7.11it/s]\n",
      "Training: 100%|██████████| 237/237 [00:33<00:00,  7.11it/s]\n",
      "Evaluating: 100%|██████████| 80/80 [00:08<00:00,  9.54it/s]\n",
      "\n"
     ]
    },
    {
     "name": "stdout",
     "output_type": "stream",
     "text": [
      "Epoch 21: Train Acc: 65.7% | Val Acc: 64.7% | TB F1: 74.1%\n"
     ]
    },
    {
     "name": "stderr",
     "output_type": "stream",
     "text": [
      "Training: 100%|██████████| 237/237 [00:33<00:00,  7.00it/s]\n",
      "Training: 100%|██████████| 237/237 [00:33<00:00,  7.00it/s]\n",
      "Evaluating: 100%|██████████| 80/80 [00:08<00:00,  9.35it/s]\n",
      "Evaluating: 100%|██████████| 80/80 [00:08<00:00,  9.35it/s]\n",
      "Training: 100%|██████████| 237/237 [00:33<00:00,  7.09it/s]\n",
      "Training: 100%|██████████| 237/237 [00:33<00:00,  7.09it/s]\n",
      "Evaluating: 100%|██████████| 80/80 [00:08<00:00,  9.27it/s]\n",
      "Evaluating: 100%|██████████| 80/80 [00:08<00:00,  9.27it/s]\n",
      "Training: 100%|██████████| 237/237 [00:33<00:00,  7.08it/s]\n",
      "Training: 100%|██████████| 237/237 [00:33<00:00,  7.08it/s]\n",
      "Evaluating: 100%|██████████| 80/80 [00:08<00:00,  9.71it/s]\n",
      "Training:   0%|          | 0/237 [00:00<?, ?it/s]\n",
      "Training: 100%|██████████| 237/237 [00:33<00:00,  7.14it/s]\n",
      "Training: 100%|██████████| 237/237 [00:33<00:00,  7.14it/s]\n",
      "Evaluating: 100%|██████████| 80/80 [00:08<00:00,  9.44it/s]\n",
      "Evaluating: 100%|██████████| 80/80 [00:08<00:00,  9.44it/s]\n",
      "Training: 100%|██████████| 237/237 [00:33<00:00,  7.11it/s]\n",
      "Training: 100%|██████████| 237/237 [00:33<00:00,  7.11it/s]\n",
      "Evaluating: 100%|██████████| 80/80 [00:08<00:00,  9.78it/s]\n",
      "\n"
     ]
    },
    {
     "name": "stdout",
     "output_type": "stream",
     "text": [
      "Epoch 26: Train Acc: 67.1% | Val Acc: 66.2% | TB F1: 74.9%\n"
     ]
    },
    {
     "name": "stderr",
     "output_type": "stream",
     "text": [
      "Training: 100%|██████████| 237/237 [00:33<00:00,  7.05it/s]\n",
      "Training: 100%|██████████| 237/237 [00:33<00:00,  7.05it/s]\n",
      "Evaluating: 100%|██████████| 80/80 [00:08<00:00,  9.44it/s]\n",
      "Training:   0%|          | 0/237 [00:00<?, ?it/s]\n",
      "Training: 100%|██████████| 237/237 [00:32<00:00,  7.21it/s]\n",
      "Training: 100%|██████████| 237/237 [00:32<00:00,  7.21it/s]\n",
      "Evaluating: 100%|██████████| 80/80 [00:08<00:00,  9.34it/s]\n",
      "Training:   0%|          | 0/237 [00:00<?, ?it/s]\n",
      "Training: 100%|██████████| 237/237 [00:33<00:00,  7.12it/s]\n",
      "Training: 100%|██████████| 237/237 [00:33<00:00,  7.12it/s]\n",
      "Evaluating: 100%|██████████| 80/80 [00:08<00:00,  9.37it/s]\n",
      "Evaluating: 100%|██████████| 80/80 [00:08<00:00,  9.37it/s]\n",
      "Training: 100%|██████████| 237/237 [00:33<00:00,  7.16it/s]\n",
      "Training: 100%|██████████| 237/237 [00:33<00:00,  7.16it/s]\n",
      "Evaluating: 100%|██████████| 80/80 [00:08<00:00,  9.52it/s]\n",
      "Evaluating: 100%|██████████| 80/80 [00:08<00:00,  9.52it/s]\n"
     ]
    },
    {
     "name": "stdout",
     "output_type": "stream",
     "text": [
      "Epoch 30: Train Acc: 66.7% | Val Acc: 69.4% | TB F1: 74.9%\n"
     ]
    },
    {
     "name": "stderr",
     "output_type": "stream",
     "text": [
      "Evaluating: 100%|██████████| 81/81 [00:08<00:00,  9.40it/s]"
     ]
    },
    {
     "name": "stdout",
     "output_type": "stream",
     "text": [
      "✅ Iteration 2 Results:\n",
      "   Test Accuracy: 73.53%\n",
      "   TB F1-Score: 74.06%\n"
     ]
    },
    {
     "name": "stderr",
     "output_type": "stream",
     "text": [
      "\n"
     ]
    },
    {
     "name": "stdout",
     "output_type": "stream",
     "text": [
      "Queried 1288 samples\n",
      "Total labeled: 8852\n",
      "Remaining unlabeled: 11598\n",
      "🔍 Queried 1288 new samples\n",
      "\n",
      "🔄 ACTIVE LEARNING ITERATION 3/5\n",
      "------------------------------------------------------------\n",
      "📊 Training with 8852 labeled samples\n",
      "📊 Training with 8852 labeled samples\n"
     ]
    },
    {
     "name": "stderr",
     "output_type": "stream",
     "text": [
      "Training: 100%|██████████| 277/277 [00:58<00:00,  4.75it/s]\n",
      "Training: 100%|██████████| 277/277 [00:58<00:00,  4.75it/s]\n",
      "Evaluating: 100%|██████████| 80/80 [00:08<00:00,  9.88it/s]\n",
      "Evaluating: 100%|██████████| 80/80 [00:08<00:00,  9.88it/s]\n"
     ]
    },
    {
     "name": "stdout",
     "output_type": "stream",
     "text": [
      "Epoch  1: Train Acc: 50.2% | Val Acc: 58.6% | TB F1: 68.2%\n"
     ]
    },
    {
     "name": "stderr",
     "output_type": "stream",
     "text": [
      "Training: 100%|██████████| 277/277 [00:39<00:00,  7.03it/s]\n",
      "Training: 100%|██████████| 277/277 [00:39<00:00,  7.03it/s]\n",
      "Evaluating: 100%|██████████| 80/80 [00:08<00:00,  9.48it/s]\n",
      "Evaluating: 100%|██████████| 80/80 [00:08<00:00,  9.48it/s]\n",
      "Training: 100%|██████████| 277/277 [00:39<00:00,  7.04it/s]\n",
      "Training: 100%|██████████| 277/277 [00:39<00:00,  7.04it/s]\n",
      "Evaluating: 100%|██████████| 80/80 [00:08<00:00,  9.38it/s]\n",
      "\n",
      "Training: 100%|██████████| 277/277 [00:38<00:00,  7.11it/s]\n",
      "Training: 100%|██████████| 277/277 [00:38<00:00,  7.11it/s]\n",
      "Evaluating: 100%|██████████| 80/80 [00:08<00:00,  9.51it/s]\n",
      "Evaluating: 100%|██████████| 80/80 [00:08<00:00,  9.51it/s]\n",
      "Training: 100%|██████████| 277/277 [00:39<00:00,  7.02it/s]\n",
      "Training: 100%|██████████| 277/277 [00:39<00:00,  7.02it/s]\n",
      "Evaluating: 100%|██████████| 80/80 [00:08<00:00,  9.27it/s]\n",
      "Training:   0%|          | 0/277 [00:00<?, ?it/s]\n",
      "Training: 100%|██████████| 277/277 [00:39<00:00,  7.02it/s]\n",
      "Training: 100%|██████████| 277/277 [00:39<00:00,  7.02it/s]\n",
      "Evaluating: 100%|██████████| 80/80 [00:08<00:00,  9.44it/s]\n",
      "\n"
     ]
    },
    {
     "name": "stdout",
     "output_type": "stream",
     "text": [
      "Epoch  6: Train Acc: 61.0% | Val Acc: 65.7% | TB F1: 73.8%\n"
     ]
    },
    {
     "name": "stderr",
     "output_type": "stream",
     "text": [
      "Training: 100%|██████████| 277/277 [00:39<00:00,  7.05it/s]\n",
      "Training: 100%|██████████| 277/277 [00:39<00:00,  7.05it/s]\n",
      "Evaluating: 100%|██████████| 80/80 [00:08<00:00,  9.37it/s]\n",
      "\n",
      "Training: 100%|██████████| 277/277 [00:39<00:00,  7.08it/s]\n",
      "Training: 100%|██████████| 277/277 [00:39<00:00,  7.08it/s]\n",
      "Evaluating: 100%|██████████| 80/80 [00:08<00:00,  9.58it/s]\n",
      "Training:   0%|          | 0/277 [00:00<?, ?it/s]\n",
      "Training: 100%|██████████| 277/277 [00:39<00:00,  6.95it/s]\n",
      "Training: 100%|██████████| 277/277 [00:39<00:00,  6.95it/s]\n",
      "Evaluating: 100%|██████████| 80/80 [00:08<00:00,  9.43it/s]\n",
      "Evaluating: 100%|██████████| 80/80 [00:08<00:00,  9.43it/s]\n",
      "Training: 100%|██████████| 277/277 [00:38<00:00,  7.10it/s]\n",
      "Training: 100%|██████████| 277/277 [00:38<00:00,  7.10it/s]\n",
      "Evaluating: 100%|██████████| 80/80 [00:08<00:00,  9.63it/s]\n",
      "Training:   0%|          | 0/277 [00:00<?, ?it/s]\n",
      "Training: 100%|██████████| 277/277 [00:39<00:00,  7.00it/s]\n",
      "Training: 100%|██████████| 277/277 [00:39<00:00,  7.00it/s]\n",
      "Evaluating: 100%|██████████| 80/80 [00:08<00:00,  9.66it/s]\n",
      "Evaluating: 100%|██████████| 80/80 [00:08<00:00,  9.66it/s]\n"
     ]
    },
    {
     "name": "stdout",
     "output_type": "stream",
     "text": [
      "Epoch 11: Train Acc: 63.3% | Val Acc: 74.8% | TB F1: 75.3%\n"
     ]
    },
    {
     "name": "stderr",
     "output_type": "stream",
     "text": [
      "Training:  53%|█████▎    | 147/277 [00:21<00:26,  4.91it/s]"
     ]
    }
   ],
   "source": [
    "# Initialize focal loss with class weights\n",
    "alpha_tensor = torch.tensor(config.focal_alpha).to(config.device)\n",
    "criterion = FocalLoss(alpha=alpha_tensor, gamma=config.focal_gamma)\n",
    "\n",
    "# Track performance across iterations\n",
    "performance_history = []\n",
    "best_tb_f1 = 0.0\n",
    "\n",
    "print(\"🚀 Starting Active Learning Training!\")\n",
    "print(\"=\"*80)\n",
    "\n",
    "for iteration in range(config.al_iterations):\n",
    "    print(f\"\\n🔄 ACTIVE LEARNING ITERATION {iteration + 1}/{config.al_iterations}\")\n",
    "    print(\"-\"*60)\n",
    "    \n",
    "    # Create fresh model for this iteration\n",
    "    model = EnhancedChestXRayCNN(\n",
    "        num_classes=config.num_classes,\n",
    "        dropout_rate=config.dropout_rate\n",
    "    ).to(config.device)\n",
    "    \n",
    "    # Optimizer and scheduler\n",
    "    optimizer = optim.AdamW(\n",
    "        model.parameters(),\n",
    "        lr=config.learning_rate,\n",
    "        weight_decay=config.weight_decay\n",
    "    )\n",
    "    \n",
    "    scheduler = optim.lr_scheduler.ReduceLROnPlateau(\n",
    "        optimizer, mode='min', factor=config.lr_scheduler_factor,\n",
    "        patience=config.lr_scheduler_patience\n",
    "    )\n",
    "    \n",
    "    scaler = torch.cuda.amp.GradScaler()\n",
    "    \n",
    "    # Get current labeled data\n",
    "    train_loader = al_framework.get_labeled_dataloader(transform=train_transform)\n",
    "    print(f\"📊 Training with {len(train_loader.dataset)} labeled samples\")\n",
    "    \n",
    "    # Training loop\n",
    "    best_val_tb_f1 = 0.0\n",
    "    patience_counter = 0\n",
    "    \n",
    "    for epoch in range(config.num_epochs):\n",
    "        # Train\n",
    "        train_loss, train_acc = train_epoch_enhanced(\n",
    "            model, train_loader, criterion, optimizer, scaler, config.device\n",
    "        )\n",
    "        \n",
    "        # Validate\n",
    "        val_metrics = evaluate_model_enhanced(\n",
    "            model, val_loader, criterion, config.device, class_names\n",
    "        )\n",
    "        \n",
    "        scheduler.step(val_metrics['loss'])\n",
    "        \n",
    "        if epoch % 5 == 0 or epoch == config.num_epochs - 1:\n",
    "            print(f\"Epoch {epoch+1:2d}: Train Acc: {train_acc:.1f}% | \"\n",
    "                  f\"Val Acc: {val_metrics['accuracy']:.1f}% | \"\n",
    "                  f\"TB F1: {val_metrics['tb_f1']:.1f}%\")\n",
    "        \n",
    "        # Early stopping based on TB F1\n",
    "        if val_metrics['tb_f1'] > best_val_tb_f1:\n",
    "            best_val_tb_f1 = val_metrics['tb_f1']\n",
    "            patience_counter = 0\n",
    "            # Save best model for this iteration\n",
    "            torch.save(model.state_dict(), f'al_iter_{iteration}_best.pth')\n",
    "        else:\n",
    "            patience_counter += 1\n",
    "            \n",
    "        if patience_counter >= config.early_stopping_patience:\n",
    "            print(f\"⏹️  Early stopping at epoch {epoch+1}\")\n",
    "            break\n",
    "    \n",
    "    # Load best model and evaluate on test set\n",
    "    model.load_state_dict(torch.load(f'al_iter_{iteration}_best.pth'))\n",
    "    test_metrics = evaluate_model_enhanced(model, test_loader, criterion, config.device, class_names)\n",
    "    \n",
    "    # Save performance\n",
    "    performance_history.append({\n",
    "        'iteration': iteration + 1,\n",
    "        'labeled_samples': len(al_framework.labeled_indices),\n",
    "        'test_accuracy': test_metrics['accuracy'],\n",
    "        'tb_f1_score': test_metrics['tb_f1']\n",
    "    })\n",
    "    \n",
    "    print(f\"✅ Iteration {iteration + 1} Results:\")\n",
    "    print(f\"   Test Accuracy: {test_metrics['accuracy']:.2f}%\")\n",
    "    print(f\"   TB F1-Score: {test_metrics['tb_f1']:.2f}%\")\n",
    "    \n",
    "    # Save best overall model\n",
    "    if test_metrics['tb_f1'] > best_tb_f1:\n",
    "        best_tb_f1 = test_metrics['tb_f1']\n",
    "        torch.save({\n",
    "            'model_state_dict': model.state_dict(),\n",
    "            'test_metrics': test_metrics,\n",
    "            'iteration': iteration,\n",
    "            'config': config.__dict__,\n",
    "            'class_names': class_names\n",
    "        }, 'best_active_learning_model_final.pth')\n",
    "        print(f\"🏆 New best model saved! TB F1: {best_tb_f1:.2f}%\")\n",
    "    \n",
    "    # Query new samples for next iteration\n",
    "    if iteration < config.al_iterations - 1 and len(al_framework.unlabeled_indices) > 0:\n",
    "        query_size = min(\n",
    "            int(len(al_framework.unlabeled_indices) * config.query_size),\n",
    "            len(al_framework.unlabeled_indices)\n",
    "        )\n",
    "        \n",
    "        if query_size > 0:\n",
    "            queried = al_framework.query_samples(model, query_size)\n",
    "            print(f\"🔍 Queried {len(queried)} new samples\")\n",
    "        else:\n",
    "            print(\"❌ No more samples to query\")\n",
    "            break\n",
    "    \n",
    "    # Clean up GPU memory\n",
    "    del model, optimizer, scheduler, scaler\n",
    "    torch.cuda.empty_cache()\n",
    "\n",
    "print(f\"\\n🎉 Active Learning Training Complete!\")\n",
    "print(f\"Best TB F1-Score achieved: {best_tb_f1:.2f}%\")"
   ]
  },
  {
   "cell_type": "code",
   "execution_count": 10,
   "id": "fbad3a13",
   "metadata": {},
   "outputs": [
    {
     "name": "stdout",
     "output_type": "stream",
     "text": [
      "📊 Resuming from iteration 3\n",
      "📈 Current best TB F1-Score: 74.53%\n",
      "📋 Loaded 2 previous results\n",
      "================================================================================\n",
      "\n",
      "🔄 ACTIVE LEARNING ITERATION 3/5\n",
      "------------------------------------------------------------\n"
     ]
    },
    {
     "name": "stdout",
     "output_type": "stream",
     "text": [
      "📊 Training with 6133 labeled samples\n"
     ]
    },
    {
     "name": "stderr",
     "output_type": "stream",
     "text": [
      "Training: 100%|██████████| 192/192 [01:01<00:00,  3.12it/s]\n",
      "Training: 100%|██████████| 192/192 [01:01<00:00,  3.12it/s]\n",
      "Evaluating: 100%|██████████| 80/80 [00:08<00:00,  9.32it/s]\n",
      "\n"
     ]
    },
    {
     "name": "stdout",
     "output_type": "stream",
     "text": [
      "Epoch  1: Train Acc: 54.9% | Val Acc: 62.3% | TB F1: 70.6%\n"
     ]
    },
    {
     "name": "stderr",
     "output_type": "stream",
     "text": [
      "Training: 100%|██████████| 192/192 [00:26<00:00,  7.38it/s]\n",
      "Training: 100%|██████████| 192/192 [00:26<00:00,  7.38it/s]\n",
      "Evaluating: 100%|██████████| 80/80 [00:08<00:00,  9.51it/s]\n",
      "\n",
      "Training: 100%|██████████| 192/192 [00:26<00:00,  7.30it/s]\n",
      "Training: 100%|██████████| 192/192 [00:26<00:00,  7.30it/s]\n",
      "Evaluating: 100%|██████████| 80/80 [00:08<00:00,  9.63it/s]\n",
      "\n",
      "Training: 100%|██████████| 192/192 [00:26<00:00,  7.29it/s]\n",
      "Training: 100%|██████████| 192/192 [00:26<00:00,  7.29it/s]\n",
      "Evaluating: 100%|██████████| 80/80 [00:08<00:00,  9.53it/s]\n",
      "Training:   0%|          | 0/192 [00:00<?, ?it/s]\n",
      "Training: 100%|██████████| 192/192 [00:26<00:00,  7.32it/s]\n",
      "Training: 100%|██████████| 192/192 [00:26<00:00,  7.32it/s]\n",
      "Evaluating: 100%|██████████| 80/80 [00:08<00:00,  9.44it/s]\n",
      "\n",
      "Training: 100%|██████████| 192/192 [00:26<00:00,  7.34it/s]\n",
      "Training: 100%|██████████| 192/192 [00:26<00:00,  7.34it/s]\n",
      "Evaluating: 100%|██████████| 80/80 [00:08<00:00,  9.31it/s]\n",
      "\n"
     ]
    },
    {
     "name": "stdout",
     "output_type": "stream",
     "text": [
      "Epoch  6: Train Acc: 64.8% | Val Acc: 63.7% | TB F1: 73.4%\n"
     ]
    },
    {
     "name": "stderr",
     "output_type": "stream",
     "text": [
      "Training: 100%|██████████| 192/192 [00:26<00:00,  7.32it/s]\n",
      "Training: 100%|██████████| 192/192 [00:26<00:00,  7.32it/s]\n",
      "Evaluating: 100%|██████████| 80/80 [00:08<00:00,  9.41it/s]\n",
      "\n",
      "Training: 100%|██████████| 192/192 [00:26<00:00,  7.33it/s]\n",
      "Training: 100%|██████████| 192/192 [00:26<00:00,  7.33it/s]\n",
      "Evaluating: 100%|██████████| 80/80 [00:08<00:00,  9.83it/s]\n",
      "Training:   0%|          | 0/192 [00:00<?, ?it/s]\n",
      "Training: 100%|██████████| 192/192 [00:26<00:00,  7.36it/s]\n",
      "Training: 100%|██████████| 192/192 [00:26<00:00,  7.36it/s]\n",
      "Evaluating: 100%|██████████| 80/80 [00:08<00:00,  9.49it/s]\n",
      "\n",
      "Training: 100%|██████████| 192/192 [00:26<00:00,  7.35it/s]\n",
      "Training: 100%|██████████| 192/192 [00:26<00:00,  7.35it/s]\n",
      "Evaluating: 100%|██████████| 80/80 [00:08<00:00,  9.26it/s]\n",
      "Training:   0%|          | 0/192 [00:00<?, ?it/s]\n",
      "Training: 100%|██████████| 192/192 [00:26<00:00,  7.19it/s]\n",
      "Training: 100%|██████████| 192/192 [00:26<00:00,  7.19it/s]\n",
      "Evaluating: 100%|██████████| 80/80 [00:08<00:00,  9.54it/s]\n",
      "\n"
     ]
    },
    {
     "name": "stdout",
     "output_type": "stream",
     "text": [
      "Epoch 11: Train Acc: 65.9% | Val Acc: 72.3% | TB F1: 74.4%\n"
     ]
    },
    {
     "name": "stderr",
     "output_type": "stream",
     "text": [
      "Training: 100%|██████████| 192/192 [00:26<00:00,  7.32it/s]\n",
      "Training: 100%|██████████| 192/192 [00:26<00:00,  7.32it/s]\n",
      "Evaluating: 100%|██████████| 80/80 [00:08<00:00,  9.81it/s]\n",
      "Evaluating: 100%|██████████| 80/80 [00:08<00:00,  9.81it/s]\n",
      "Training: 100%|██████████| 192/192 [00:25<00:00,  7.40it/s]\n",
      "Training: 100%|██████████| 192/192 [00:25<00:00,  7.40it/s]\n",
      "Evaluating: 100%|██████████| 80/80 [00:08<00:00,  9.87it/s]\n",
      "Training:   0%|          | 0/192 [00:00<?, ?it/s]\n",
      "Training: 100%|██████████| 192/192 [00:25<00:00,  7.42it/s]\n",
      "Training: 100%|██████████| 192/192 [00:25<00:00,  7.42it/s]\n",
      "Evaluating: 100%|██████████| 80/80 [00:08<00:00,  9.63it/s]\n",
      "Evaluating: 100%|██████████| 80/80 [00:08<00:00,  9.63it/s]\n",
      "Training: 100%|██████████| 192/192 [00:26<00:00,  7.32it/s]\n",
      "Training: 100%|██████████| 192/192 [00:26<00:00,  7.32it/s]\n",
      "Evaluating: 100%|██████████| 80/80 [00:08<00:00,  9.30it/s]\n",
      "Training:   0%|          | 0/192 [00:00<?, ?it/s]\n",
      "Training: 100%|██████████| 192/192 [00:25<00:00,  7.39it/s]\n",
      "Training: 100%|██████████| 192/192 [00:25<00:00,  7.39it/s]\n",
      "Evaluating: 100%|██████████| 80/80 [00:08<00:00,  9.56it/s]\n",
      "\n"
     ]
    },
    {
     "name": "stdout",
     "output_type": "stream",
     "text": [
      "Epoch 16: Train Acc: 66.9% | Val Acc: 74.1% | TB F1: 75.7%\n"
     ]
    },
    {
     "name": "stderr",
     "output_type": "stream",
     "text": [
      "Training: 100%|██████████| 192/192 [00:26<00:00,  7.20it/s]\n",
      "Training: 100%|██████████| 192/192 [00:26<00:00,  7.20it/s]\n",
      "Evaluating: 100%|██████████| 80/80 [00:08<00:00,  9.54it/s]\n",
      "Evaluating: 100%|██████████| 80/80 [00:08<00:00,  9.54it/s]\n",
      "Training: 100%|██████████| 192/192 [00:26<00:00,  7.31it/s]\n",
      "Training: 100%|██████████| 192/192 [00:26<00:00,  7.31it/s]\n",
      "Evaluating: 100%|██████████| 80/80 [00:08<00:00,  9.64it/s]\n",
      "Training:   0%|          | 0/192 [00:00<?, ?it/s]\n",
      "Training: 100%|██████████| 192/192 [00:26<00:00,  7.33it/s]\n",
      "Training: 100%|██████████| 192/192 [00:26<00:00,  7.33it/s]\n",
      "Evaluating: 100%|██████████| 80/80 [00:08<00:00,  9.48it/s]\n",
      "Training:   0%|          | 0/192 [00:00<?, ?it/s]\n",
      "Training: 100%|██████████| 192/192 [00:26<00:00,  7.33it/s]\n",
      "Training: 100%|██████████| 192/192 [00:26<00:00,  7.33it/s]\n",
      "Evaluating: 100%|██████████| 80/80 [00:08<00:00,  9.43it/s]\n",
      "Evaluating: 100%|██████████| 80/80 [00:08<00:00,  9.43it/s]\n",
      "Training: 100%|██████████| 192/192 [00:26<00:00,  7.23it/s]\n",
      "Training: 100%|██████████| 192/192 [00:26<00:00,  7.23it/s]\n",
      "Evaluating: 100%|██████████| 80/80 [00:08<00:00,  9.68it/s]\n",
      "Evaluating: 100%|██████████| 80/80 [00:08<00:00,  9.68it/s]\n"
     ]
    },
    {
     "name": "stdout",
     "output_type": "stream",
     "text": [
      "Epoch 21: Train Acc: 65.9% | Val Acc: 72.3% | TB F1: 75.8%\n"
     ]
    },
    {
     "name": "stderr",
     "output_type": "stream",
     "text": [
      "Training: 100%|██████████| 192/192 [00:26<00:00,  7.31it/s]\n",
      "Training: 100%|██████████| 192/192 [00:26<00:00,  7.31it/s]\n",
      "Evaluating: 100%|██████████| 80/80 [00:08<00:00,  9.34it/s]\n",
      "Training:   0%|          | 0/192 [00:00<?, ?it/s]\n",
      "Training: 100%|██████████| 192/192 [00:26<00:00,  7.25it/s]\n",
      "Training: 100%|██████████| 192/192 [00:26<00:00,  7.25it/s]\n",
      "Evaluating: 100%|██████████| 80/80 [00:08<00:00,  9.38it/s]\n",
      "Evaluating: 100%|██████████| 80/80 [00:08<00:00,  9.38it/s]\n",
      "Training: 100%|██████████| 192/192 [00:26<00:00,  7.15it/s]\n",
      "Training: 100%|██████████| 192/192 [00:26<00:00,  7.15it/s]\n",
      "Evaluating: 100%|██████████| 80/80 [00:08<00:00,  9.60it/s]\n",
      "Training:   0%|          | 0/192 [00:00<?, ?it/s]\n",
      "Training: 100%|██████████| 192/192 [00:26<00:00,  7.26it/s]\n",
      "Training: 100%|██████████| 192/192 [00:26<00:00,  7.26it/s]\n",
      "Evaluating: 100%|██████████| 80/80 [00:08<00:00,  9.43it/s]\n",
      "Training:   0%|          | 0/192 [00:00<?, ?it/s]\n",
      "Training: 100%|██████████| 192/192 [00:26<00:00,  7.23it/s]\n",
      "Training: 100%|██████████| 192/192 [00:26<00:00,  7.23it/s]\n",
      "Evaluating: 100%|██████████| 80/80 [00:08<00:00,  9.47it/s]\n",
      "\n"
     ]
    },
    {
     "name": "stdout",
     "output_type": "stream",
     "text": [
      "Epoch 26: Train Acc: 66.9% | Val Acc: 74.1% | TB F1: 75.6%\n"
     ]
    },
    {
     "name": "stderr",
     "output_type": "stream",
     "text": [
      "Training: 100%|██████████| 192/192 [00:26<00:00,  7.21it/s]\n",
      "Training: 100%|██████████| 192/192 [00:26<00:00,  7.21it/s]\n",
      "Evaluating: 100%|██████████| 80/80 [00:08<00:00,  9.44it/s]\n",
      "Training:   0%|          | 0/192 [00:00<?, ?it/s]\n",
      "Training: 100%|██████████| 192/192 [00:26<00:00,  7.36it/s]\n",
      "Training: 100%|██████████| 192/192 [00:26<00:00,  7.36it/s]\n",
      "Evaluating: 100%|██████████| 80/80 [00:08<00:00,  9.28it/s]\n",
      "Training:   0%|          | 0/192 [00:00<?, ?it/s]\n",
      "Training: 100%|██████████| 192/192 [00:26<00:00,  7.29it/s]\n",
      "Training: 100%|██████████| 192/192 [00:26<00:00,  7.29it/s]\n",
      "Evaluating: 100%|██████████| 80/80 [00:08<00:00,  9.83it/s]\n",
      "\n"
     ]
    },
    {
     "name": "stdout",
     "output_type": "stream",
     "text": [
      "⏹️  Early stopping at epoch 29\n"
     ]
    },
    {
     "name": "stderr",
     "output_type": "stream",
     "text": [
      "Evaluating: 100%|██████████| 81/81 [00:08<00:00,  9.09it/s]\n",
      "\n"
     ]
    },
    {
     "name": "stdout",
     "output_type": "stream",
     "text": [
      "✅ Iteration 3 Results:\n",
      "   Test Accuracy: 71.82%\n",
      "   TB F1-Score: 74.94%\n",
      "🏆 New best model saved! TB F1: 74.94%\n",
      "🏆 New best model saved! TB F1: 74.94%\n",
      "Queried 1431 samples\n",
      "Total labeled: 7564\n",
      "Remaining unlabeled: 12886\n",
      "🔍 Queried 1431 new samples\n",
      "\n",
      "🔄 ACTIVE LEARNING ITERATION 4/5\n",
      "------------------------------------------------------------\n",
      "Queried 1431 samples\n",
      "Total labeled: 7564\n",
      "Remaining unlabeled: 12886\n",
      "🔍 Queried 1431 new samples\n",
      "\n",
      "🔄 ACTIVE LEARNING ITERATION 4/5\n",
      "------------------------------------------------------------\n",
      "📊 Training with 7564 labeled samples\n",
      "📊 Training with 7564 labeled samples\n"
     ]
    },
    {
     "name": "stderr",
     "output_type": "stream",
     "text": [
      "Training: 100%|██████████| 237/237 [00:51<00:00,  4.56it/s]\n",
      "Training: 100%|██████████| 237/237 [00:51<00:00,  4.56it/s]\n",
      "Evaluating: 100%|██████████| 80/80 [00:08<00:00,  9.48it/s]\n",
      "Evaluating: 100%|██████████| 80/80 [00:08<00:00,  9.48it/s]\n"
     ]
    },
    {
     "name": "stdout",
     "output_type": "stream",
     "text": [
      "Epoch  1: Train Acc: 52.2% | Val Acc: 67.1% | TB F1: 71.6%\n"
     ]
    },
    {
     "name": "stderr",
     "output_type": "stream",
     "text": [
      "Training: 100%|██████████| 237/237 [00:33<00:00,  7.01it/s]\n",
      "Training: 100%|██████████| 237/237 [00:33<00:00,  7.01it/s]\n",
      "Evaluating: 100%|██████████| 80/80 [00:08<00:00,  9.33it/s]\n",
      "\n",
      "Training: 100%|██████████| 237/237 [00:34<00:00,  6.87it/s]\n",
      "Training: 100%|██████████| 237/237 [00:34<00:00,  6.87it/s]\n",
      "Evaluating: 100%|██████████| 80/80 [00:08<00:00,  9.37it/s]\n",
      "Training:   0%|          | 0/237 [00:00<?, ?it/s]\n",
      "Training: 100%|██████████| 237/237 [00:33<00:00,  6.97it/s]\n",
      "Training: 100%|██████████| 237/237 [00:33<00:00,  6.97it/s]\n",
      "Evaluating: 100%|██████████| 80/80 [00:08<00:00,  9.64it/s]\n",
      "\n",
      "Training: 100%|██████████| 237/237 [00:34<00:00,  6.88it/s]\n",
      "Training: 100%|██████████| 237/237 [00:34<00:00,  6.88it/s]\n",
      "Evaluating: 100%|██████████| 80/80 [00:08<00:00,  9.22it/s]\n",
      "Evaluating: 100%|██████████| 80/80 [00:08<00:00,  9.22it/s]\n",
      "Training: 100%|██████████| 237/237 [00:34<00:00,  6.96it/s]\n",
      "Training: 100%|██████████| 237/237 [00:34<00:00,  6.96it/s]\n",
      "Evaluating: 100%|██████████| 80/80 [00:08<00:00,  9.42it/s]\n",
      "\n"
     ]
    },
    {
     "name": "stdout",
     "output_type": "stream",
     "text": [
      "Epoch  6: Train Acc: 63.2% | Val Acc: 73.2% | TB F1: 72.4%\n"
     ]
    },
    {
     "name": "stderr",
     "output_type": "stream",
     "text": [
      "Training: 100%|██████████| 237/237 [00:34<00:00,  6.87it/s]\n",
      "Training: 100%|██████████| 237/237 [00:34<00:00,  6.87it/s]\n",
      "Evaluating: 100%|██████████| 80/80 [00:08<00:00,  9.40it/s]\n",
      "Training:   0%|          | 0/237 [00:00<?, ?it/s]\n",
      "Training: 100%|██████████| 237/237 [00:33<00:00,  6.99it/s]\n",
      "Training: 100%|██████████| 237/237 [00:33<00:00,  6.99it/s]\n",
      "Evaluating: 100%|██████████| 80/80 [00:08<00:00,  9.16it/s]\n",
      "Evaluating: 100%|██████████| 80/80 [00:08<00:00,  9.16it/s]\n",
      "Training: 100%|██████████| 237/237 [00:34<00:00,  6.92it/s]\n",
      "Training: 100%|██████████| 237/237 [00:34<00:00,  6.92it/s]\n",
      "Evaluating: 100%|██████████| 80/80 [00:08<00:00,  9.55it/s]\n",
      "Training:   0%|          | 0/237 [00:00<?, ?it/s]\n",
      "Training: 100%|██████████| 237/237 [00:34<00:00,  6.94it/s]\n",
      "Training: 100%|██████████| 237/237 [00:34<00:00,  6.94it/s]\n",
      "Evaluating: 100%|██████████| 80/80 [00:08<00:00,  9.33it/s]\n",
      "Evaluating: 100%|██████████| 80/80 [00:08<00:00,  9.33it/s]\n",
      "Training: 100%|██████████| 237/237 [00:33<00:00,  6.97it/s]\n",
      "Training: 100%|██████████| 237/237 [00:33<00:00,  6.97it/s]\n",
      "Evaluating: 100%|██████████| 80/80 [00:08<00:00,  9.57it/s]\n",
      "Evaluating: 100%|██████████| 80/80 [00:08<00:00,  9.57it/s]\n"
     ]
    },
    {
     "name": "stdout",
     "output_type": "stream",
     "text": [
      "Epoch 11: Train Acc: 64.4% | Val Acc: 74.9% | TB F1: 75.3%\n"
     ]
    },
    {
     "name": "stderr",
     "output_type": "stream",
     "text": [
      "Training: 100%|██████████| 237/237 [00:33<00:00,  6.98it/s]\n",
      "Training: 100%|██████████| 237/237 [00:33<00:00,  6.98it/s]\n",
      "Evaluating: 100%|██████████| 80/80 [00:08<00:00,  9.59it/s]\n",
      "Evaluating: 100%|██████████| 80/80 [00:08<00:00,  9.59it/s]\n",
      "Training: 100%|██████████| 237/237 [00:33<00:00,  7.06it/s]\n",
      "Training: 100%|██████████| 237/237 [00:33<00:00,  7.06it/s]\n",
      "Evaluating: 100%|██████████| 80/80 [00:08<00:00,  9.33it/s]\n",
      "Training:   0%|          | 0/237 [00:00<?, ?it/s]\n",
      "Training: 100%|██████████| 237/237 [00:34<00:00,  6.93it/s]\n",
      "Training: 100%|██████████| 237/237 [00:34<00:00,  6.93it/s]\n",
      "Evaluating: 100%|██████████| 80/80 [00:08<00:00,  9.33it/s]\n",
      "Training:   0%|          | 0/237 [00:00<?, ?it/s]\n",
      "Training: 100%|██████████| 237/237 [00:33<00:00,  7.03it/s]\n",
      "Training: 100%|██████████| 237/237 [00:33<00:00,  7.03it/s]\n",
      "Evaluating: 100%|██████████| 80/80 [00:08<00:00,  9.44it/s]\n",
      "Training:   0%|          | 0/237 [00:00<?, ?it/s]\n",
      "Training: 100%|██████████| 237/237 [00:33<00:00,  6.98it/s]\n",
      "Training: 100%|██████████| 237/237 [00:33<00:00,  6.98it/s]\n",
      "Evaluating: 100%|██████████| 80/80 [00:08<00:00,  9.51it/s]\n",
      "Evaluating: 100%|██████████| 80/80 [00:08<00:00,  9.51it/s]\n"
     ]
    },
    {
     "name": "stdout",
     "output_type": "stream",
     "text": [
      "Epoch 16: Train Acc: 64.9% | Val Acc: 64.2% | TB F1: 74.0%\n",
      "⏹️  Early stopping at epoch 16\n"
     ]
    },
    {
     "name": "stderr",
     "output_type": "stream",
     "text": [
      "Evaluating: 100%|██████████| 81/81 [00:08<00:00,  9.30it/s]"
     ]
    },
    {
     "name": "stdout",
     "output_type": "stream",
     "text": [
      "✅ Iteration 4 Results:\n",
      "   Test Accuracy: 73.76%\n",
      "   TB F1-Score: 73.52%\n"
     ]
    },
    {
     "name": "stderr",
     "output_type": "stream",
     "text": [
      "\n"
     ]
    },
    {
     "name": "stdout",
     "output_type": "stream",
     "text": [
      "Queried 1288 samples\n",
      "Total labeled: 8852\n",
      "Remaining unlabeled: 11598\n",
      "🔍 Queried 1288 new samples\n",
      "\n",
      "🔄 ACTIVE LEARNING ITERATION 5/5\n",
      "------------------------------------------------------------\n",
      "📊 Training with 8852 labeled samples\n",
      "📊 Training with 8852 labeled samples\n"
     ]
    },
    {
     "name": "stderr",
     "output_type": "stream",
     "text": [
      "Training: 100%|██████████| 277/277 [00:58<00:00,  4.74it/s]\n",
      "Training: 100%|██████████| 277/277 [00:58<00:00,  4.74it/s]\n",
      "Evaluating: 100%|██████████| 80/80 [00:08<00:00,  9.28it/s]\n",
      "\n"
     ]
    },
    {
     "name": "stdout",
     "output_type": "stream",
     "text": [
      "Epoch  1: Train Acc: 53.6% | Val Acc: 60.3% | TB F1: 70.6%\n"
     ]
    },
    {
     "name": "stderr",
     "output_type": "stream",
     "text": [
      "Training: 100%|██████████| 277/277 [00:38<00:00,  7.16it/s]\n",
      "Training: 100%|██████████| 277/277 [00:38<00:00,  7.16it/s]\n",
      "Evaluating: 100%|██████████| 80/80 [00:08<00:00,  9.62it/s]\n",
      "\n",
      "Training: 100%|██████████| 277/277 [00:38<00:00,  7.14it/s]\n",
      "Training: 100%|██████████| 277/277 [00:38<00:00,  7.14it/s]\n",
      "Evaluating: 100%|██████████| 80/80 [00:08<00:00,  9.44it/s]\n",
      "\n",
      "Training: 100%|██████████| 277/277 [00:39<00:00,  6.96it/s]\n",
      "Training: 100%|██████████| 277/277 [00:39<00:00,  6.96it/s]\n",
      "Evaluating: 100%|██████████| 80/80 [00:08<00:00,  9.22it/s]\n",
      "Evaluating: 100%|██████████| 80/80 [00:08<00:00,  9.22it/s]\n",
      "Training: 100%|██████████| 277/277 [00:38<00:00,  7.11it/s]\n",
      "Training: 100%|██████████| 277/277 [00:38<00:00,  7.11it/s]\n",
      "Evaluating: 100%|██████████| 80/80 [00:08<00:00,  9.50it/s]\n",
      "\n",
      "Training: 100%|██████████| 277/277 [00:40<00:00,  6.92it/s]\n",
      "Training: 100%|██████████| 277/277 [00:40<00:00,  6.92it/s]\n",
      "Evaluating: 100%|██████████| 80/80 [00:08<00:00,  9.26it/s]\n",
      "Evaluating: 100%|██████████| 80/80 [00:08<00:00,  9.26it/s]\n"
     ]
    },
    {
     "name": "stdout",
     "output_type": "stream",
     "text": [
      "Epoch  6: Train Acc: 62.5% | Val Acc: 63.4% | TB F1: 73.4%\n"
     ]
    },
    {
     "name": "stderr",
     "output_type": "stream",
     "text": [
      "Training: 100%|██████████| 277/277 [00:39<00:00,  7.07it/s]\n",
      "Training: 100%|██████████| 277/277 [00:39<00:00,  7.07it/s]\n",
      "Evaluating: 100%|██████████| 80/80 [00:08<00:00,  9.29it/s]\n",
      "Training:   0%|          | 0/277 [00:00<?, ?it/s]\n",
      "Training: 100%|██████████| 277/277 [00:39<00:00,  7.08it/s]\n",
      "Training: 100%|██████████| 277/277 [00:39<00:00,  7.08it/s]\n",
      "Evaluating: 100%|██████████| 80/80 [00:08<00:00,  9.52it/s]\n",
      "Evaluating: 100%|██████████| 80/80 [00:08<00:00,  9.52it/s]\n",
      "Training: 100%|██████████| 277/277 [00:39<00:00,  7.08it/s]\n",
      "Training: 100%|██████████| 277/277 [00:39<00:00,  7.08it/s]\n",
      "Evaluating: 100%|██████████| 80/80 [00:08<00:00,  9.29it/s]\n",
      "\n",
      "Training: 100%|██████████| 277/277 [00:38<00:00,  7.11it/s]\n",
      "Training: 100%|██████████| 277/277 [00:38<00:00,  7.11it/s]\n",
      "Evaluating: 100%|██████████| 80/80 [00:08<00:00,  9.54it/s]\n",
      "Training:   0%|          | 0/277 [00:00<?, ?it/s]\n",
      "Training: 100%|██████████| 277/277 [00:39<00:00,  7.03it/s]\n",
      "Training: 100%|██████████| 277/277 [00:39<00:00,  7.03it/s]\n",
      "Evaluating: 100%|██████████| 80/80 [00:08<00:00,  9.34it/s]\n",
      "Evaluating: 100%|██████████| 80/80 [00:08<00:00,  9.34it/s]\n"
     ]
    },
    {
     "name": "stdout",
     "output_type": "stream",
     "text": [
      "Epoch 11: Train Acc: 64.5% | Val Acc: 73.8% | TB F1: 74.8%\n"
     ]
    },
    {
     "name": "stderr",
     "output_type": "stream",
     "text": [
      "Training: 100%|██████████| 277/277 [00:39<00:00,  7.05it/s]\n",
      "Training: 100%|██████████| 277/277 [00:39<00:00,  7.05it/s]\n",
      "Evaluating: 100%|██████████| 80/80 [00:08<00:00,  9.33it/s]\n",
      "Training:   0%|          | 0/277 [00:00<?, ?it/s]\n",
      "Training: 100%|██████████| 277/277 [00:39<00:00,  7.05it/s]\n",
      "Training: 100%|██████████| 277/277 [00:39<00:00,  7.05it/s]\n",
      "Evaluating: 100%|██████████| 80/80 [00:08<00:00,  9.27it/s]\n",
      "Evaluating: 100%|██████████| 80/80 [00:08<00:00,  9.27it/s]\n",
      "Training: 100%|██████████| 277/277 [00:38<00:00,  7.11it/s]\n",
      "Training: 100%|██████████| 277/277 [00:38<00:00,  7.11it/s]\n",
      "Evaluating: 100%|██████████| 80/80 [00:08<00:00,  9.26it/s]\n",
      "Training:   0%|          | 0/277 [00:00<?, ?it/s]\n",
      "Training: 100%|██████████| 277/277 [00:38<00:00,  7.11it/s]\n",
      "Training: 100%|██████████| 277/277 [00:38<00:00,  7.11it/s]\n",
      "Evaluating: 100%|██████████| 80/80 [00:08<00:00,  9.36it/s]\n",
      "Training:   0%|          | 0/277 [00:00<?, ?it/s]\n",
      "Training: 100%|██████████| 277/277 [00:39<00:00,  7.07it/s]\n",
      "Training: 100%|██████████| 277/277 [00:39<00:00,  7.07it/s]\n",
      "Evaluating: 100%|██████████| 80/80 [00:08<00:00,  9.38it/s]\n",
      "\n"
     ]
    },
    {
     "name": "stdout",
     "output_type": "stream",
     "text": [
      "Epoch 16: Train Acc: 65.7% | Val Acc: 64.1% | TB F1: 74.0%\n"
     ]
    },
    {
     "name": "stderr",
     "output_type": "stream",
     "text": [
      "Training: 100%|██████████| 277/277 [00:39<00:00,  7.00it/s]\n",
      "Training: 100%|██████████| 277/277 [00:39<00:00,  7.00it/s]\n",
      "Evaluating: 100%|██████████| 80/80 [00:08<00:00,  9.26it/s]\n",
      "Evaluating: 100%|██████████| 80/80 [00:08<00:00,  9.26it/s]\n"
     ]
    },
    {
     "name": "stdout",
     "output_type": "stream",
     "text": [
      "⏹️  Early stopping at epoch 17\n"
     ]
    },
    {
     "name": "stderr",
     "output_type": "stream",
     "text": [
      "Evaluating: 100%|██████████| 81/81 [00:08<00:00,  9.38it/s]"
     ]
    },
    {
     "name": "stdout",
     "output_type": "stream",
     "text": [
      "✅ Iteration 5 Results:\n",
      "   Test Accuracy: 71.16%\n",
      "   TB F1-Score: 74.51%\n",
      "\n",
      "🎉 Active Learning Training Complete!\n",
      "Best TB F1-Score achieved: 74.94%\n"
     ]
    },
    {
     "name": "stderr",
     "output_type": "stream",
     "text": [
      "\n"
     ]
    }
   ],
   "source": [
    "# TO START FROM A SPECIFIC ITERATION, SET THE RESUME_FROM_ITERATION VARIABLE ABOVE\n",
    "# Initialize focal loss with class weights\n",
    "alpha_tensor = torch.tensor(config.focal_alpha).to(config.device)\n",
    "criterion = FocalLoss(alpha=alpha_tensor, gamma=config.focal_gamma)\n",
    "\n",
    "# Resume configuration - SET THIS TO CONTINUE FROM A SPECIFIC ITERATION\n",
    "RESUME_FROM_ITERATION = 3  # Set to 1 to start fresh, or 3 to continue from iteration 3\n",
    "LOAD_EXISTING_PERFORMANCE = True  # Load existing performance history\n",
    "\n",
    "# Track performance across iterations\n",
    "if LOAD_EXISTING_PERFORMANCE and RESUME_FROM_ITERATION > 1:\n",
    "    # Load existing performance data (you can manually enter what you know)\n",
    "    performance_history = [\n",
    "        {\n",
    "            'iteration': 1,\n",
    "            'labeled_samples': 7564,  # From your output\n",
    "            'test_accuracy': 74.00,\n",
    "            'tb_f1_score': 74.53\n",
    "        },\n",
    "        {\n",
    "            'iteration': 2,\n",
    "            'labeled_samples': 8852,  # From your output\n",
    "            'test_accuracy': 73.53,\n",
    "            'tb_f1_score': 74.06\n",
    "        }\n",
    "    ]\n",
    "    best_tb_f1 = 74.53  # Best so far from iteration 1\n",
    "    print(f\"📊 Resuming from iteration {RESUME_FROM_ITERATION}\")\n",
    "    print(f\"📈 Current best TB F1-Score: {best_tb_f1:.2f}%\")\n",
    "    print(f\"📋 Loaded {len(performance_history)} previous results\")\n",
    "else:\n",
    "    performance_history = []\n",
    "    best_tb_f1 = 0.0\n",
    "    print(\"🚀 Starting Active Learning Training from scratch!\")\n",
    "\n",
    "print(\"=\"*80)\n",
    "\n",
    "for iteration in range(RESUME_FROM_ITERATION - 1, config.al_iterations):\n",
    "    print(f\"\\n🔄 ACTIVE LEARNING ITERATION {iteration + 1}/{config.al_iterations}\")\n",
    "    print(\"-\"*60)\n",
    "    \n",
    "    # Create fresh model for this iteration\n",
    "    model = EnhancedChestXRayCNN(\n",
    "        num_classes=config.num_classes,\n",
    "        dropout_rate=config.dropout_rate\n",
    "    ).to(config.device)\n",
    "    \n",
    "    # Optimizer and scheduler\n",
    "    optimizer = optim.AdamW(\n",
    "        model.parameters(),\n",
    "        lr=config.learning_rate,\n",
    "        weight_decay=config.weight_decay\n",
    "    )\n",
    "    \n",
    "    scheduler = optim.lr_scheduler.ReduceLROnPlateau(\n",
    "        optimizer, mode='min', factor=config.lr_scheduler_factor,\n",
    "        patience=config.lr_scheduler_patience\n",
    "    )\n",
    "    \n",
    "    scaler = torch.cuda.amp.GradScaler()\n",
    "    \n",
    "    # Get current labeled data\n",
    "    train_loader = al_framework.get_labeled_dataloader(transform=train_transform)\n",
    "    print(f\"📊 Training with {len(train_loader.dataset)} labeled samples\")\n",
    "    \n",
    "    # Training loop\n",
    "    best_val_tb_f1 = 0.0\n",
    "    patience_counter = 0\n",
    "    \n",
    "    for epoch in range(config.num_epochs):\n",
    "        # Train\n",
    "        train_loss, train_acc = train_epoch_enhanced(\n",
    "            model, train_loader, criterion, optimizer, scaler, config.device\n",
    "        )\n",
    "        \n",
    "        # Validate\n",
    "        val_metrics = evaluate_model_enhanced(\n",
    "            model, val_loader, criterion, config.device, class_names\n",
    "        )\n",
    "        \n",
    "        scheduler.step(val_metrics['loss'])\n",
    "        \n",
    "        if epoch % 5 == 0 or epoch == config.num_epochs - 1:\n",
    "            print(f\"Epoch {epoch+1:2d}: Train Acc: {train_acc:.1f}% | \"\n",
    "                  f\"Val Acc: {val_metrics['accuracy']:.1f}% | \"\n",
    "                  f\"TB F1: {val_metrics['tb_f1']:.1f}%\")\n",
    "        \n",
    "        # Early stopping based on TB F1\n",
    "        if val_metrics['tb_f1'] > best_val_tb_f1:\n",
    "            best_val_tb_f1 = val_metrics['tb_f1']\n",
    "            patience_counter = 0\n",
    "            # Save best model for this iteration\n",
    "            torch.save(model.state_dict(), f'al_iter_{iteration}_best.pth')\n",
    "        else:\n",
    "            patience_counter += 1\n",
    "            \n",
    "        if patience_counter >= config.early_stopping_patience:\n",
    "            print(f\"⏹️  Early stopping at epoch {epoch+1}\")\n",
    "            break\n",
    "    \n",
    "    # Load best model and evaluate on test set\n",
    "    model.load_state_dict(torch.load(f'al_iter_{iteration}_best.pth'))\n",
    "    test_metrics = evaluate_model_enhanced(model, test_loader, criterion, config.device, class_names)\n",
    "    \n",
    "    # Save performance\n",
    "    performance_history.append({\n",
    "        'iteration': iteration + 1,\n",
    "        'labeled_samples': len(al_framework.labeled_indices),\n",
    "        'test_accuracy': test_metrics['accuracy'],\n",
    "        'tb_f1_score': test_metrics['tb_f1']\n",
    "    })\n",
    "    \n",
    "    print(f\"✅ Iteration {iteration + 1} Results:\")\n",
    "    print(f\"   Test Accuracy: {test_metrics['accuracy']:.2f}%\")\n",
    "    print(f\"   TB F1-Score: {test_metrics['tb_f1']:.2f}%\")\n",
    "    \n",
    "    # Save best overall model\n",
    "    if test_metrics['tb_f1'] > best_tb_f1:\n",
    "        best_tb_f1 = test_metrics['tb_f1']\n",
    "        torch.save({\n",
    "            'model_state_dict': model.state_dict(),\n",
    "            'test_metrics': test_metrics,\n",
    "            'iteration': iteration,\n",
    "            'config': config.__dict__,\n",
    "            'class_names': class_names\n",
    "        }, 'best_active_learning_model_final.pth')\n",
    "        print(f\"🏆 New best model saved! TB F1: {best_tb_f1:.2f}%\")\n",
    "    \n",
    "    # Query new samples for next iteration\n",
    "    if iteration < config.al_iterations - 1 and len(al_framework.unlabeled_indices) > 0:\n",
    "        query_size = min(\n",
    "            int(len(al_framework.unlabeled_indices) * config.query_size),\n",
    "            len(al_framework.unlabeled_indices)\n",
    "        )\n",
    "        \n",
    "        if query_size > 0:\n",
    "            queried = al_framework.query_samples(model, query_size)\n",
    "            print(f\"🔍 Queried {len(queried)} new samples\")\n",
    "        else:\n",
    "            print(\"❌ No more samples to query\")\n",
    "            break\n",
    "    \n",
    "    # Clean up GPU memory\n",
    "    del model, optimizer, scheduler, scaler\n",
    "    torch.cuda.empty_cache()\n",
    "\n",
    "print(f\"\\n🎉 Active Learning Training Complete!\")\n",
    "print(f\"Best TB F1-Score achieved: {best_tb_f1:.2f}%\")"
   ]
  },
  {
   "cell_type": "markdown",
   "id": "05f2e880",
   "metadata": {},
   "source": [
    "## 10. Results Visualization and Analysis"
   ]
  },
  {
   "cell_type": "code",
   "execution_count": 11,
   "id": "0fc9f516",
   "metadata": {},
   "outputs": [
    {
     "data": {
      "image/png": "[encoded data removed]",
      "text/plain": [
       "<Figure size 1800x500 with 3 Axes>"
      ]
     },
     "metadata": {},
     "output_type": "display_data"
    },
    {
     "name": "stdout",
     "output_type": "stream",
     "text": [
      "\\n================================================================================\n",
      "🏆 ACTIVE LEARNING RESULTS SUMMARY\n",
      "================================================================================\n",
      "Baseline Model TB F1-Score: 71.38%\n",
      "Best Active Learning TB F1-Score: 74.94%\n",
      "Improvement: 3.56 percentage points\n",
      "Relative Improvement: 5.0%\n",
      "\\nPerformance Progress:\n",
      "  Iteration 1: 7564 samples → Acc: 74.0%, TB F1: 74.5%\n",
      "  Iteration 2: 8852 samples → Acc: 73.5%, TB F1: 74.1%\n",
      "  Iteration 3: 6133 samples → Acc: 71.8%, TB F1: 74.9%\n",
      "  Iteration 4: 7564 samples → Acc: 73.8%, TB F1: 73.5%\n",
      "  Iteration 5: 8852 samples → Acc: 71.2%, TB F1: 74.5%\n",
      "\\n✅ Active Learning Training Complete!\n",
      "📁 Saved files:\n",
      "  - best_active_learning_model_final.pth (Best model)\n",
      "  - active_learning_results.png (Performance plots)\n",
      "  - al_iter_X_best.pth (Best model per iteration)\n"
     ]
    }
   ],
   "source": [
    "# Plot Active Learning Performance\n",
    "fig, axes = plt.subplots(1, 3, figsize=(18, 5))\n",
    "\n",
    "# Convert performance history to DataFrame for easier plotting\n",
    "df = pd.DataFrame(performance_history)\n",
    "\n",
    "# Plot 1: Test Accuracy vs Labeled Samples\n",
    "axes[0].plot(df['labeled_samples'], df['test_accuracy'], 'bo-', linewidth=2, markersize=8)\n",
    "axes[0].set_xlabel('Number of Labeled Samples')\n",
    "axes[0].set_ylabel('Test Accuracy (%)')\n",
    "axes[0].set_title('Active Learning: Test Accuracy Progress')\n",
    "axes[0].grid(True, alpha=0.3)\n",
    "axes[0].set_ylim([50, 100])\n",
    "\n",
    "# Plot 2: TB F1-Score vs Labeled Samples\n",
    "axes[1].plot(df['labeled_samples'], df['tb_f1_score'], 'ro-', linewidth=2, markersize=8)\n",
    "axes[1].set_xlabel('Number of Labeled Samples')\n",
    "axes[1].set_ylabel('Tuberculosis F1-Score (%)')\n",
    "axes[1].set_title('Active Learning: TB F1-Score Progress')\n",
    "axes[1].grid(True, alpha=0.3)\n",
    "axes[1].set_ylim([0, 100])\n",
    "\n",
    "# Plot 3: Comparison with Baseline\n",
    "baseline_tb_f1 = 71.38  # From original model\n",
    "axes[2].axhline(y=baseline_tb_f1, color='red', linestyle='--', linewidth=2, label='Baseline Model')\n",
    "axes[2].plot(df['labeled_samples'], df['tb_f1_score'], 'go-', linewidth=2, markersize=8, label='Active Learning')\n",
    "axes[2].set_xlabel('Number of Labeled Samples')\n",
    "axes[2].set_ylabel('Tuberculosis F1-Score (%)')\n",
    "axes[2].set_title('Active Learning vs Baseline Comparison')\n",
    "axes[2].legend()\n",
    "axes[2].grid(True, alpha=0.3)\n",
    "axes[2].set_ylim([0, 100])\n",
    "\n",
    "plt.tight_layout()\n",
    "plt.savefig('active_learning_results.png', dpi=300, bbox_inches='tight')\n",
    "plt.show()\n",
    "\n",
    "# Print final results summary\n",
    "print(\"\\\\n\" + \"=\"*80)\n",
    "print(\"🏆 ACTIVE LEARNING RESULTS SUMMARY\")\n",
    "print(\"=\"*80)\n",
    "print(f\"Baseline Model TB F1-Score: {baseline_tb_f1:.2f}%\")\n",
    "print(f\"Best Active Learning TB F1-Score: {best_tb_f1:.2f}%\")\n",
    "print(f\"Improvement: {best_tb_f1 - baseline_tb_f1:.2f} percentage points\")\n",
    "print(f\"Relative Improvement: {((best_tb_f1 - baseline_tb_f1) / baseline_tb_f1) * 100:.1f}%\")\n",
    "\n",
    "print(\"\\\\nPerformance Progress:\")\n",
    "for i, perf in enumerate(performance_history):\n",
    "    print(f\"  Iteration {perf['iteration']}: {perf['labeled_samples']} samples → \"\n",
    "          f\"Acc: {perf['test_accuracy']:.1f}%, TB F1: {perf['tb_f1_score']:.1f}%\")\n",
    "\n",
    "print(\"\\\\n✅ Active Learning Training Complete!\")\n",
    "print(\"📁 Saved files:\")\n",
    "print(\"  - best_active_learning_model_final.pth (Best model)\")\n",
    "print(\"  - active_learning_results.png (Performance plots)\")\n",
    "print(\"  - al_iter_X_best.pth (Best model per iteration)\")"
   ]
  }
 ],
 "metadata": {
  "kernelspec": {
   "display_name": "venv",
   "language": "python",
   "name": "python3"
  },
  "language_info": {
   "codemirror_mode": {
    "name": "ipython",
    "version": 3
   },
   "file_extension": ".py",
   "mimetype": "text/x-python",
   "name": "python",
   "nbconvert_exporter": "python",
   "pygments_lexer": "ipython3",
   "version": "3.12.3"
  }
 },
 "nbformat": 4,
 "nbformat_minor": 5
}
